{
 "cells": [
  {
   "cell_type": "markdown",
   "metadata": {},
   "source": [
    "# Data Analytics for Engineers - Session 1\n",
    "\n",
    "\n",
    "\n",
    "## Objective\n",
    "\n",
    "- Use Jupyter notebooks\n",
    "- Load data \n",
    "- Perform basic statistics \n",
    "- Simple data vizualisation\n",
    "\n",
    "\n",
    "## Why python?\n",
    "\n",
    "\n",
    "-\tIt is in high demand on the job market, especially in data analysis, big data and machine learning.\n",
    "-\tIt is free. You can use it at home and after university without paying any fee. \n",
    "-\tIt uses the same programming principles as other programming languages such as C, C++ or java. Once you know Python, it will be easier to learn another language.\n",
    "-\tIt is very versatile and powerful. You can use Python to do anything from video games to Big data analyses.\n",
    "-\tIt is one of the easiest programming language to learn.\n",
    "-\tIt takes its name from the Monty Python.\n",
    "\n",
    "## How to program in python\n",
    "\n",
    "To program in Python you need two things:\n",
    "-\tA means to write your code: an editor\n",
    "-\tA software that will read and execute the code: an interpreter\n",
    "In tutorials we will run jupyter notebooks to write/save/run code in a format that looks like a report. We will also introduce a software called Spyder, that can write/open/save/run code, which contains both an editor and an interpreter.\n",
    "\n",
    "\n",
    "## HELP !!\n",
    "\n",
    "When you program, you will always be looking for help to find a new command, understand how it works, and find a bug. Python has built-in help, easily accessible in Spyder, as seen in the previous paragraph. This is especially useful if you are lost in a cabin in the woods without internet. \n",
    "Python also has online official documentation that is very clear and easy to browse. For example if you are looking for maths functions you can access this page https://docs.Python.org/3.7/library/math.html.\n",
    "Google is, of course, your best friend, typing your problem in Google will surprisingly often lead to the solution.\n",
    "Finally, I recommend that you pair up with someone for learning Python (or any other language), exchanging codes, tips, and solving errors together.\n",
    "\n",
    "\n",
    "## Jupyter notebooks\n",
    "\n",
    "Jupyter notebooks enable you to write python code in a report like setting. It is mixing sections of text (written in Markdown) and section of code.\n",
    "\n",
    "Some further documentations on Jupyter notebooks:\n",
    "- https://www.datacamp.com/community/tutorials/tutorial-jupyter-notebook\n",
    "- https://www.dataquest.io/blog/jupyter-notebook-tutorial/\n",
    "- shortcuts: http://johnlaudun.org/20131228-ipython-notebook-keyboard-shortcuts/\n",
    "\n",
    "\n",
    "Jupyter notebooks are files with the extension .ipynb. They must be open in a web browser for editing and execution.\n",
    "\n",
    "## Simple python\n",
    "\n",
    "To execute the following line clique on it and tap ctlr+Return"
   ]
  },
  {
   "cell_type": "code",
   "execution_count": null,
   "metadata": {
    "collapsed": true
   },
   "outputs": [],
   "source": [
    "print(\"hello world\")"
   ]
  },
  {
   "cell_type": "markdown",
   "metadata": {},
   "source": [
    "Try a new command (for example print \"hello you\")"
   ]
  },
  {
   "cell_type": "code",
   "execution_count": null,
   "metadata": {
    "collapsed": true
   },
   "outputs": [],
   "source": []
  },
  {
   "cell_type": "markdown",
   "metadata": {},
   "source": [
    "Python is able to do any basic calculation"
   ]
  },
  {
   "cell_type": "code",
   "execution_count": null,
   "metadata": {
    "collapsed": true
   },
   "outputs": [],
   "source": [
    "1+1"
   ]
  },
  {
   "cell_type": "code",
   "execution_count": null,
   "metadata": {
    "collapsed": true
   },
   "outputs": [],
   "source": [
    "1-2"
   ]
  },
  {
   "cell_type": "code",
   "execution_count": null,
   "metadata": {
    "collapsed": true
   },
   "outputs": [],
   "source": [
    "2*21"
   ]
  },
  {
   "cell_type": "code",
   "execution_count": null,
   "metadata": {
    "collapsed": true
   },
   "outputs": [],
   "source": [
    "2**3"
   ]
  },
  {
   "cell_type": "code",
   "execution_count": null,
   "metadata": {
    "collapsed": true
   },
   "outputs": [],
   "source": [
    "2**4"
   ]
  },
  {
   "cell_type": "code",
   "execution_count": null,
   "metadata": {
    "collapsed": true
   },
   "outputs": [],
   "source": [
    "42/5"
   ]
  },
  {
   "cell_type": "markdown",
   "metadata": {},
   "source": [
    "**If at some point, you run into a command and you are not sure of what it does. You should look at the help. BUT FIRST you can TRY IT OUT in your Python console. Trying out commands will not break the computer (99,9999% of the time), but it will save you a lot of time. **"
   ]
  },
  {
   "cell_type": "markdown",
   "metadata": {},
   "source": [
    "#### Variables\n",
    "\n",
    "When you program, you may want to save a value, to manipulate them later in the code. For this, we use variables. For example, we may save the value 42 in a variable called `spam`."
   ]
  },
  {
   "cell_type": "code",
   "execution_count": null,
   "metadata": {
    "collapsed": true
   },
   "outputs": [],
   "source": [
    "spam = 42"
   ]
  },
  {
   "cell_type": "code",
   "execution_count": null,
   "metadata": {
    "collapsed": true
   },
   "outputs": [],
   "source": [
    "print(spam)"
   ]
  },
  {
   "cell_type": "markdown",
   "metadata": {},
   "source": [
    "You can now manipulate this variable in order to produce new values, as in the following example:"
   ]
  },
  {
   "cell_type": "code",
   "execution_count": null,
   "metadata": {
    "collapsed": true
   },
   "outputs": [],
   "source": [
    "spam*4"
   ]
  },
  {
   "cell_type": "code",
   "execution_count": null,
   "metadata": {
    "collapsed": true
   },
   "outputs": [],
   "source": [
    "spam/2"
   ]
  },
  {
   "cell_type": "code",
   "execution_count": null,
   "metadata": {
    "collapsed": true
   },
   "outputs": [],
   "source": [
    "spam+spam+spam+spam"
   ]
  },
  {
   "cell_type": "markdown",
   "metadata": {},
   "source": [
    "You can manipulate several variables at a time:"
   ]
  },
  {
   "cell_type": "code",
   "execution_count": null,
   "metadata": {
    "collapsed": true
   },
   "outputs": [],
   "source": [
    "spam = 42"
   ]
  },
  {
   "cell_type": "code",
   "execution_count": null,
   "metadata": {
    "collapsed": true
   },
   "outputs": [],
   "source": [
    "bacon = 6"
   ]
  },
  {
   "cell_type": "code",
   "execution_count": null,
   "metadata": {
    "collapsed": true
   },
   "outputs": [],
   "source": [
    "eggs = 7"
   ]
  },
  {
   "cell_type": "code",
   "execution_count": null,
   "metadata": {
    "collapsed": true
   },
   "outputs": [],
   "source": [
    "toast = 1"
   ]
  },
  {
   "cell_type": "code",
   "execution_count": null,
   "metadata": {
    "collapsed": true
   },
   "outputs": [],
   "source": [
    "sandwich = spam+bacon+eggs+toast*2"
   ]
  },
  {
   "cell_type": "markdown",
   "metadata": {},
   "source": [
    "Let’s imagine that the values in the preceding example correspond to the number of calories of the ingredients of a sandwich with the variable 'sandwich' containing the total number of calories.\n",
    "\n",
    "All the following questions must be solved in Python!\n",
    "\n",
    "1)\tWhat is the calorific value of a spam spam bacon eggs and spam sandwich?"
   ]
  },
  {
   "cell_type": "code",
   "execution_count": null,
   "metadata": {
    "collapsed": true
   },
   "outputs": [],
   "source": [
    "# write your code here"
   ]
  },
  {
   "cell_type": "markdown",
   "metadata": {},
   "source": [
    "2)\tWhat is the caloric value of a spam spam spam spam spam spam spam and bacon sandwich?"
   ]
  },
  {
   "cell_type": "code",
   "execution_count": null,
   "metadata": {
    "collapsed": true
   },
   "outputs": [],
   "source": [
    "# write your code here"
   ]
  },
  {
   "cell_type": "markdown",
   "metadata": {},
   "source": [
    "3)\tIf three persons share a spam spam spam spam spam spam spam and bacon sandwich equally, how many calories will each person eat?"
   ]
  },
  {
   "cell_type": "code",
   "execution_count": null,
   "metadata": {
    "collapsed": true
   },
   "outputs": [],
   "source": []
  },
  {
   "cell_type": "markdown",
   "metadata": {},
   "source": [
    "#### Lists\n",
    "\n",
    "In Python arrays are called lists. They are created using the [] sign and separating the elements by a coma. For example, I can create a list of all my ingredients:"
   ]
  },
  {
   "cell_type": "code",
   "execution_count": null,
   "metadata": {
    "collapsed": true
   },
   "outputs": [],
   "source": [
    "ingredients = [\"spam\", \"bacon\", \"egg\", \"toast\"]\n",
    "print(ingredients)"
   ]
  },
  {
   "cell_type": "markdown",
   "metadata": {},
   "source": [
    "You can access each element of my list using an index."
   ]
  },
  {
   "cell_type": "code",
   "execution_count": null,
   "metadata": {
    "collapsed": true
   },
   "outputs": [],
   "source": [
    "print(ingredients[0])"
   ]
  },
  {
   "cell_type": "code",
   "execution_count": null,
   "metadata": {
    "collapsed": true
   },
   "outputs": [],
   "source": [
    "print(ingredients[1])"
   ]
  },
  {
   "cell_type": "code",
   "execution_count": null,
   "metadata": {
    "collapsed": true
   },
   "outputs": [],
   "source": [
    "print(ingredients[2])"
   ]
  },
  {
   "cell_type": "code",
   "execution_count": null,
   "metadata": {
    "collapsed": true
   },
   "outputs": [],
   "source": [
    "print(ingredients[3])"
   ]
  },
  {
   "cell_type": "markdown",
   "metadata": {},
   "source": [
    "**Important: unlike some other languages, the index of the first element is 0**"
   ]
  },
  {
   "cell_type": "markdown",
   "metadata": {},
   "source": [
    "you can modify an element of the list the same way you access it:"
   ]
  },
  {
   "cell_type": "code",
   "execution_count": null,
   "metadata": {
    "collapsed": true
   },
   "outputs": [],
   "source": [
    "ingredients[3]=\"lettuce\""
   ]
  },
  {
   "cell_type": "code",
   "execution_count": null,
   "metadata": {
    "collapsed": true
   },
   "outputs": [],
   "source": [
    "print(ingredients)"
   ]
  },
  {
   "cell_type": "markdown",
   "metadata": {},
   "source": [
    "#### Dictionaries\n",
    "\n",
    "In the previous example, we had a list of ingredients and a list of calories, but no link between the ingredients and the calories. Instead of using lists, we can use a dictionary in Python. It is an associative array where instead of accessing a value by its position, you can access is with a key. \n",
    "In our example, we can use ingredients as keys and calories as values. The dictionary is created with {} and each elements must contains a key and a value coded like this `\"key\":value`\n"
   ]
  },
  {
   "cell_type": "code",
   "execution_count": null,
   "metadata": {
    "collapsed": true
   },
   "outputs": [],
   "source": [
    "caloriesperingredient = { \"spam\":69 , \"bacon\":15 , \"eggs\":9 , \"toast\":2 }"
   ]
  },
  {
   "cell_type": "code",
   "execution_count": null,
   "metadata": {
    "collapsed": true
   },
   "outputs": [],
   "source": [
    "caloriesperingredient[\"spam\"]"
   ]
  },
  {
   "cell_type": "code",
   "execution_count": null,
   "metadata": {
    "collapsed": true
   },
   "outputs": [],
   "source": [
    "caloriesperingredient[\"bacon\"]"
   ]
  },
  {
   "cell_type": "code",
   "execution_count": null,
   "metadata": {
    "collapsed": true
   },
   "outputs": [],
   "source": [
    "caloriesperingredient[\"eggs\"]"
   ]
  },
  {
   "cell_type": "markdown",
   "metadata": {},
   "source": [
    "Exercise:\n",
    "    \n",
    "Save in a dictionany the following table of football team and their average number of goal per game  in the last world cup.\n",
    "\n",
    "Country | average goals per game\n",
    "---| ---\n",
    "France | 2\n",
    "Croatia | 2\n",
    "Belgium | 2.29\n",
    "England | 1.71\n",
    "Russia | 2.2\n",
    "Brazil | 1.6\n",
    "Uruguay | 1.4\n",
    "Spain | 1.75"
   ]
  },
  {
   "cell_type": "markdown",
   "metadata": {
    "collapsed": true
   },
   "source": [
    "## Reading a data file\n",
    "\n",
    "The most basic way to open a file in data, is using the command `open` with the attribute `r` for read."
   ]
  },
  {
   "cell_type": "code",
   "execution_count": null,
   "metadata": {
    "collapsed": true
   },
   "outputs": [],
   "source": [
    "f=open(\"datasets\\melsyd.csv\",\"r\")"
   ]
  },
  {
   "cell_type": "markdown",
   "metadata": {
    "collapsed": true
   },
   "source": [
    "However this is not very handy  for extracting dataset from a file . Instead, in data analysis, we are going to use specific commands that open files filed with data.\n",
    "For more information on how to use the standard open / read python functions see https://www.w3schools.com/python/python_file_open.asp"
   ]
  },
  {
   "cell_type": "markdown",
   "metadata": {},
   "source": [
    " ## Libraries\n",
    " \n",
    " Python contains many function out of the box, but not all. Libraries are sets of function that can be installed on top of the basic ones. In data analysis, we typically need extra function for doing statistics, plotting the data, re-arranging the data, etc. \n",
    " \n",
    "The main libraries for data analysis are:\n",
    "- pandas: for data frame\n",
    "- numpy: for numerical manipulations\n",
    "- matplotlib: for plotting\n"
   ]
  },
  {
   "cell_type": "markdown",
   "metadata": {},
   "source": [
    "## Data frames\n",
    "\n",
    "Pandas is a library to deal with data frame. A data frame is a basic structure to deal with any data that can be represented by an array: each column is a variable, each line is a sample (individual, object, country, etc.)\n",
    "\n",
    "All the document for different pandas functions can be found here: https://pandas.pydata.org/pandas-docs/stable/reference/frame.html \n",
    "\n",
    "However official documentation can be a bit hard to understand, so google is your best friend.\n",
    "\n",
    "### Loading the data\n",
    "\n",
    "Pandas lets you load csv (comma separated files) files."
   ]
  },
  {
   "cell_type": "code",
   "execution_count": null,
   "metadata": {
    "collapsed": true
   },
   "outputs": [],
   "source": [
    "import pandas as pd\n",
    "import numpy as np"
   ]
  },
  {
   "cell_type": "code",
   "execution_count": null,
   "metadata": {
    "collapsed": true
   },
   "outputs": [],
   "source": [
    "pd.read_csv(\"datasets\\melsyd.csv\")"
   ]
  },
  {
   "cell_type": "markdown",
   "metadata": {},
   "source": [
    "To store this data in a variable we can do:"
   ]
  },
  {
   "cell_type": "code",
   "execution_count": null,
   "metadata": {
    "collapsed": true
   },
   "outputs": [],
   "source": [
    "ansett=pd.read_csv(\"datasets\\melsyd.csv\")"
   ]
  },
  {
   "cell_type": "markdown",
   "metadata": {},
   "source": [
    "This dataset represents the number of passenger (per thousands) that travelled each with ansett airlines between 1987 and 1992.\n",
    "\n",
    "### Manipulating the data\n",
    "\n",
    "*Exercise*: execute the following commands and explain what they do:\n"
   ]
  },
  {
   "cell_type": "code",
   "execution_count": null,
   "metadata": {
    "collapsed": true
   },
   "outputs": [],
   "source": [
    "ansett.columns"
   ]
  },
  {
   "cell_type": "markdown",
   "metadata": {},
   "source": [
    "type what `columns` does"
   ]
  },
  {
   "cell_type": "code",
   "execution_count": null,
   "metadata": {
    "collapsed": true
   },
   "outputs": [],
   "source": [
    "ansett.index"
   ]
  },
  {
   "cell_type": "markdown",
   "metadata": {},
   "source": [
    "type what `df.index` does"
   ]
  },
  {
   "cell_type": "code",
   "execution_count": null,
   "metadata": {
    "collapsed": true
   },
   "outputs": [],
   "source": [
    "ansett[1:10]"
   ]
  },
  {
   "cell_type": "markdown",
   "metadata": {},
   "source": [
    "type with `df[1:10]`"
   ]
  },
  {
   "cell_type": "code",
   "execution_count": null,
   "metadata": {
    "collapsed": true
   },
   "outputs": [],
   "source": [
    "ansett.iloc[1:10,2]"
   ]
  },
  {
   "cell_type": "markdown",
   "metadata": {},
   "source": [
    "Type what `ìloc` does"
   ]
  },
  {
   "cell_type": "code",
   "execution_count": null,
   "metadata": {
    "collapsed": true
   },
   "outputs": [],
   "source": [
    "ansett[\"First.Class\"]"
   ]
  },
  {
   "cell_type": "code",
   "execution_count": null,
   "metadata": {
    "collapsed": true,
    "scrolled": true
   },
   "outputs": [],
   "source": [
    "ansett[ansett[\"First.Class\"] >2]"
   ]
  },
  {
   "cell_type": "markdown",
   "metadata": {},
   "source": [
    "**To access a specific column/variable of a dataframe, you can use df[\"columnname\"] or df.columnname if the column contains no . or space**\n",
    "\n",
    "**To access a specific entree in the dataframe, e.g. line i , column j, you can use df.iloc[i,j]**"
   ]
  },
  {
   "cell_type": "code",
   "execution_count": null,
   "metadata": {
    "collapsed": true
   },
   "outputs": [],
   "source": [
    "ansett.describe()"
   ]
  },
  {
   "cell_type": "markdown",
   "metadata": {},
   "source": [
    "Type what `describe` does"
   ]
  },
  {
   "cell_type": "markdown",
   "metadata": {},
   "source": [
    "\n",
    "## Descriptive statistics\n",
    "\n",
    "Pandas enables to do descriptive statistics, i.e. measures that will describe what is happening in your dataset. These are usually the center (mean, median), spread (range, interquatile-range, standard deviation).\n",
    "\n",
    "Let's start with the number of entree in the dataset:\n"
   ]
  },
  {
   "cell_type": "code",
   "execution_count": null,
   "metadata": {
    "collapsed": true
   },
   "outputs": [],
   "source": [
    "ansett.count()"
   ]
  },
  {
   "cell_type": "markdown",
   "metadata": {},
   "source": [
    "To describe a variable, we are usually interested in the mean:"
   ]
  },
  {
   "cell_type": "code",
   "execution_count": null,
   "metadata": {
    "collapsed": true
   },
   "outputs": [],
   "source": [
    "ansett.mean()"
   ]
  },
  {
   "cell_type": "code",
   "execution_count": null,
   "metadata": {
    "collapsed": true
   },
   "outputs": [],
   "source": [
    "ansett['First.Class'].mean()"
   ]
  },
  {
   "cell_type": "code",
   "execution_count": null,
   "metadata": {
    "collapsed": true,
    "scrolled": true
   },
   "outputs": [],
   "source": [
    "ansett['Business.Class'].mean()"
   ]
  },
  {
   "cell_type": "markdown",
   "metadata": {},
   "source": [
    "The formula to compute the mean is \n",
    "$$\\bar{x}=\\frac{\\sum x_i}{n}$$"
   ]
  },
  {
   "cell_type": "code",
   "execution_count": null,
   "metadata": {
    "collapsed": true
   },
   "outputs": [],
   "source": [
    "ansett['Business.Class'].sum()/ansett['Business.Class'].count()"
   ]
  },
  {
   "cell_type": "markdown",
   "metadata": {},
   "source": [
    "Explicitely using the formula, we find the same value for the mean.\n",
    "\n",
    "Now let's compute the median:"
   ]
  },
  {
   "cell_type": "code",
   "execution_count": null,
   "metadata": {
    "collapsed": true
   },
   "outputs": [],
   "source": [
    "ansett.median()"
   ]
  },
  {
   "cell_type": "markdown",
   "metadata": {},
   "source": [
    "We can also compute the median for a single variable"
   ]
  },
  {
   "cell_type": "code",
   "execution_count": null,
   "metadata": {
    "collapsed": true,
    "scrolled": false
   },
   "outputs": [],
   "source": [
    "ansett['Business.Class'].median()"
   ]
  },
  {
   "cell_type": "markdown",
   "metadata": {},
   "source": [
    "Compare the mean and median of the Busines class (reminder, the number represent the number of passenger per week, in thousands). What does the difference mean?"
   ]
  },
  {
   "cell_type": "markdown",
   "metadata": {},
   "source": [
    "*Write your answer*"
   ]
  },
  {
   "cell_type": "markdown",
   "metadata": {},
   "source": [
    "The spread of the variables can be described by the range, which is the difference between the maximum and the minimum"
   ]
  },
  {
   "cell_type": "code",
   "execution_count": null,
   "metadata": {
    "collapsed": true
   },
   "outputs": [],
   "source": [
    "ansett.max()"
   ]
  },
  {
   "cell_type": "code",
   "execution_count": null,
   "metadata": {
    "collapsed": true
   },
   "outputs": [],
   "source": [
    "ansett.min()"
   ]
  },
  {
   "cell_type": "code",
   "execution_count": null,
   "metadata": {
    "collapsed": true
   },
   "outputs": [],
   "source": [
    "ansett.max()-ansett.min()"
   ]
  },
  {
   "cell_type": "markdown",
   "metadata": {},
   "source": [
    "Compare the difference between maximum and range, how can you explain it?"
   ]
  },
  {
   "cell_type": "markdown",
   "metadata": {},
   "source": [
    "*Write your answer*"
   ]
  },
  {
   "cell_type": "markdown",
   "metadata": {},
   "source": [
    "The standard deviation is a basic measure that gives you the spread of a data, the formula is\n",
    "$$\\sum\\frac{(x_i-\\bar{x})^2}{n}$$"
   ]
  },
  {
   "cell_type": "code",
   "execution_count": null,
   "metadata": {
    "collapsed": true
   },
   "outputs": [],
   "source": [
    "ansett.std()"
   ]
  },
  {
   "cell_type": "markdown",
   "metadata": {},
   "source": [
    "Reminder the `describe` function gives us all these statistics directly"
   ]
  },
  {
   "cell_type": "code",
   "execution_count": null,
   "metadata": {
    "collapsed": true
   },
   "outputs": [],
   "source": [
    "ansett.describe()"
   ]
  },
  {
   "cell_type": "markdown",
   "metadata": {
    "collapsed": true
   },
   "source": [
    "## Plotting\n",
    "\n",
    "Matplotlib is the basic library to plot the data. Descriptive statistics should always be \n",
    "presented alongside plots\n",
    "\n",
    "First let's load the library\n"
   ]
  },
  {
   "cell_type": "code",
   "execution_count": null,
   "metadata": {
    "collapsed": true
   },
   "outputs": [],
   "source": [
    "import matplotlib.pyplot as plt"
   ]
  },
  {
   "cell_type": "markdown",
   "metadata": {},
   "source": [
    "To be able to see the plots in the jupyter notebook we need to add this extra line below"
   ]
  },
  {
   "cell_type": "code",
   "execution_count": null,
   "metadata": {
    "collapsed": true
   },
   "outputs": [],
   "source": [
    "%matplotlib inline"
   ]
  },
  {
   "cell_type": "code",
   "execution_count": null,
   "metadata": {
    "collapsed": true
   },
   "outputs": [],
   "source": [
    "plt.plot(ansett[\"Business.Class\"])"
   ]
  },
  {
   "cell_type": "markdown",
   "metadata": {},
   "source": [
    "What does this plot represent?"
   ]
  },
  {
   "cell_type": "markdown",
   "metadata": {
    "collapsed": true
   },
   "source": [
    "*Write your answer*"
   ]
  },
  {
   "cell_type": "code",
   "execution_count": null,
   "metadata": {
    "collapsed": true
   },
   "outputs": [],
   "source": [
    "plt.plot(ansett)"
   ]
  },
  {
   "cell_type": "code",
   "execution_count": null,
   "metadata": {
    "collapsed": true
   },
   "outputs": [],
   "source": [
    "plt.plot(ansett[\"First.Class\"],'r',label=\"First\")\n",
    "plt.plot(ansett[\"Business.Class\"],'b',label=\"Business\")\n",
    "plt.plot(ansett[\"Economy.Class\"],'g',label=\"Economy\")\n",
    "plt.legend(loc='upper left')"
   ]
  },
  {
   "cell_type": "markdown",
   "metadata": {},
   "source": [
    "Describe what this represents"
   ]
  },
  {
   "cell_type": "markdown",
   "metadata": {},
   "source": [
    "*write your answer*"
   ]
  },
  {
   "cell_type": "code",
   "execution_count": null,
   "metadata": {
    "collapsed": true
   },
   "outputs": [],
   "source": []
  },
  {
   "cell_type": "code",
   "execution_count": null,
   "metadata": {
    "collapsed": true,
    "scrolled": true
   },
   "outputs": [],
   "source": [
    "ansett.boxplot()"
   ]
  },
  {
   "cell_type": "markdown",
   "metadata": {},
   "source": [
    "Describe what the above boxplot show:"
   ]
  },
  {
   "cell_type": "markdown",
   "metadata": {},
   "source": [
    "*Write your answer here*"
   ]
  },
  {
   "cell_type": "markdown",
   "metadata": {},
   "source": [
    "## Statistical testing\n",
    "\n",
    "In this section we will import a new library to do some statistical test"
   ]
  },
  {
   "cell_type": "code",
   "execution_count": null,
   "metadata": {
    "collapsed": true
   },
   "outputs": [],
   "source": [
    "import scipy.stats as st"
   ]
  },
  {
   "cell_type": "markdown",
   "metadata": {},
   "source": [
    "We will also need to clean our dataset, i.e. get rid of all the NaN in the dataset"
   ]
  },
  {
   "cell_type": "code",
   "execution_count": null,
   "metadata": {
    "collapsed": true
   },
   "outputs": [],
   "source": [
    "ansett2=ansett.dropna()"
   ]
  },
  {
   "cell_type": "code",
   "execution_count": null,
   "metadata": {
    "collapsed": true
   },
   "outputs": [],
   "source": [
    "ansett2"
   ]
  },
  {
   "cell_type": "markdown",
   "metadata": {},
   "source": [
    "## Statistical testing\n",
    "\n",
    "\n",
    "### pairwise comparison\n",
    "\n",
    "A question of investigation could be, are there the same amount of passenger in each class. This is called a pairwise comparison.\n",
    "\n",
    "First let's compare the number of first class and business class passenger. We will use a t-test.\n",
    "\n"
   ]
  },
  {
   "cell_type": "code",
   "execution_count": null,
   "metadata": {
    "collapsed": true
   },
   "outputs": [],
   "source": [
    "st.ttest_ind(ansett2['First.Class'],ansett2['Business.Class'])"
   ]
  },
  {
   "cell_type": "markdown",
   "metadata": {},
   "source": [
    "In the output, we are interested in the p-value, here p=0.0000000000001835\n",
    "\n",
    "Doing the t-test we had the following statistical hypothesis:\n",
    "\n",
    "H0: There is no difference in the number of passenger in first and business class\n",
    "H1: There is a difference in the number of passenger in first and business class\n",
    "\n",
    "To conclude, we must compare p with a threshold value \\alpha=0.05\n",
    "\n",
    "If $p >0.05$ we can  not reject H0, and we conclude H0\n",
    "If $p <0.05$ we reject H0 and we conclude H1\n",
    "\n",
    "In this case $p<0.05$ so reject H0, so there is a difference between the number of passenger in first and business class"
   ]
  },
  {
   "cell_type": "markdown",
   "metadata": {},
   "source": [
    "Exercise: Is there a difference in the number of passenger in first and economy class?"
   ]
  },
  {
   "cell_type": "code",
   "execution_count": null,
   "metadata": {
    "collapsed": true
   },
   "outputs": [],
   "source": [
    "#type your code here"
   ]
  },
  {
   "cell_type": "markdown",
   "metadata": {},
   "source": [
    "*write your conclusion here*"
   ]
  },
  {
   "cell_type": "markdown",
   "metadata": {},
   "source": [
    "Remember what the data look like? "
   ]
  },
  {
   "cell_type": "code",
   "execution_count": null,
   "metadata": {
    "collapsed": true,
    "scrolled": true
   },
   "outputs": [],
   "source": [
    "plt.plot(ansett2)"
   ]
  },
  {
   "cell_type": "markdown",
   "metadata": {},
   "source": [
    "Are these results expected? \n",
    "\n",
    "It seems that something strange happened around week 250, there is a huge increase in the number of business class, and a sharp decrease in teh number of economy class passenger. So let's see if there is a different between the number of passenger in first and business class, between week 110 and week 240.\n",
    "\n",
    "First let's extract the data of these weeks:"
   ]
  },
  {
   "cell_type": "code",
   "execution_count": null,
   "metadata": {
    "collapsed": true
   },
   "outputs": [],
   "source": [
    "ansett_110_240=ansett.iloc[109:239,]"
   ]
  },
  {
   "cell_type": "markdown",
   "metadata": {},
   "source": [
    "Why are the indices of the arrays 109 and 239?"
   ]
  },
  {
   "cell_type": "code",
   "execution_count": null,
   "metadata": {
    "collapsed": true
   },
   "outputs": [],
   "source": [
    "ansett_110_240.boxplot()"
   ]
  },
  {
   "cell_type": "markdown",
   "metadata": {},
   "source": [
    "State the hypotheses and test whether there is a difference in the number of passenger in first and business class in these weeks."
   ]
  },
  {
   "cell_type": "code",
   "execution_count": null,
   "metadata": {
    "collapsed": true
   },
   "outputs": [],
   "source": [
    "# type your code here"
   ]
  },
  {
   "cell_type": "markdown",
   "metadata": {},
   "source": [
    "*Write your conclusion*"
   ]
  },
  {
   "cell_type": "markdown",
   "metadata": {},
   "source": [
    "### Normal distribution\n",
    "\n",
    "We are usually interested in having **normal** (gaussian) distribution because they allow us to do specific statistics tests. If a data is normally distributed its histogram follows a bell curve. \n",
    "\n",
    "The previous test for example assumes that the number of passenger follows a normal distribution. To test whether that is true you can use the shapiro test:\n",
    "\n",
    "H0: The distribution is normal\n",
    "\n",
    "H1: The distribution is not normal"
   ]
  },
  {
   "cell_type": "code",
   "execution_count": null,
   "metadata": {
    "collapsed": true
   },
   "outputs": [],
   "source": [
    "st.shapiro(ansett2[\"First.Class\"])"
   ]
  },
  {
   "cell_type": "markdown",
   "metadata": {},
   "source": [
    "Here $p=0.0034$, so $p<0.05$ , so we reject H0. The number of passenger in First class is not normally distributed."
   ]
  },
  {
   "cell_type": "markdown",
   "metadata": {},
   "source": [
    "Test whether the number of passenger in Business class is normally distributed"
   ]
  },
  {
   "cell_type": "code",
   "execution_count": null,
   "metadata": {
    "collapsed": true
   },
   "outputs": [],
   "source": [
    "# type your code here for Business class"
   ]
  },
  {
   "cell_type": "markdown",
   "metadata": {},
   "source": [
    "*write your conclusion here for Business class*"
   ]
  },
  {
   "cell_type": "code",
   "execution_count": null,
   "metadata": {
    "collapsed": true
   },
   "outputs": [],
   "source": [
    "# type your code here for Economy class"
   ]
  },
  {
   "cell_type": "markdown",
   "metadata": {},
   "source": [
    "*write your conclusion here for business class*"
   ]
  },
  {
   "cell_type": "markdown",
   "metadata": {},
   "source": [
    "### Simulations\n",
    "\n",
    "To see what a normal distribution looks like we are going to simulate a random normal variable."
   ]
  },
  {
   "cell_type": "code",
   "execution_count": null,
   "metadata": {
    "collapsed": true
   },
   "outputs": [],
   "source": [
    "np.random.normal(1,1,1000) # this simulate 1000 samples, with a mean of 1 and a standard deviation of 1"
   ]
  },
  {
   "cell_type": "markdown",
   "metadata": {},
   "source": [
    "We create 3 samples of 20, 100 and 1000 samples normally distributed variables"
   ]
  },
  {
   "cell_type": "code",
   "execution_count": null,
   "metadata": {
    "collapsed": true
   },
   "outputs": [],
   "source": [
    "s20=np.random.normal(1,1,20)"
   ]
  },
  {
   "cell_type": "code",
   "execution_count": null,
   "metadata": {
    "collapsed": true
   },
   "outputs": [],
   "source": [
    "s100=np.random.normal(1,1,100)"
   ]
  },
  {
   "cell_type": "code",
   "execution_count": null,
   "metadata": {
    "collapsed": true
   },
   "outputs": [],
   "source": [
    "s1000=np.random.normal(1,1,1000)"
   ]
  },
  {
   "cell_type": "code",
   "execution_count": null,
   "metadata": {
    "collapsed": true
   },
   "outputs": [],
   "source": [
    "plt.hist(s1000)\n",
    "plt.title(\"1000 samples\")"
   ]
  },
  {
   "cell_type": "code",
   "execution_count": null,
   "metadata": {
    "collapsed": true
   },
   "outputs": [],
   "source": [
    "plt.hist(s100)\n",
    "plt.title(\"100 samples\")"
   ]
  },
  {
   "cell_type": "code",
   "execution_count": null,
   "metadata": {
    "collapsed": true
   },
   "outputs": [],
   "source": [
    "plt.hist(s20)\n",
    "plt.title(\"20 samples\")"
   ]
  },
  {
   "cell_type": "markdown",
   "metadata": {},
   "source": [
    "What difference do you observe between the 20, 100 and 1000 samples?"
   ]
  },
  {
   "cell_type": "markdown",
   "metadata": {},
   "source": [
    "*Write your answer here*"
   ]
  },
  {
   "cell_type": "markdown",
   "metadata": {},
   "source": [
    "Now let's test whethere these sample are normally distributed with the shapiro test:"
   ]
  },
  {
   "cell_type": "code",
   "execution_count": null,
   "metadata": {
    "collapsed": true
   },
   "outputs": [],
   "source": [
    "st.shapiro(s20)"
   ]
  },
  {
   "cell_type": "code",
   "execution_count": null,
   "metadata": {
    "collapsed": true
   },
   "outputs": [],
   "source": [
    "st.shapiro(s100)"
   ]
  },
  {
   "cell_type": "code",
   "execution_count": null,
   "metadata": {
    "collapsed": true
   },
   "outputs": [],
   "source": [
    "st.shapiro(s1000)"
   ]
  },
  {
   "cell_type": "markdown",
   "metadata": {},
   "source": [
    "What can you conclude from these tests?"
   ]
  },
  {
   "cell_type": "code",
   "execution_count": null,
   "metadata": {
    "collapsed": true
   },
   "outputs": [],
   "source": []
  },
  {
   "cell_type": "markdown",
   "metadata": {},
   "source": [
    "## Cricketer datasets\n",
    "\n",
    "Now let's apply all these tools to a new data. The cricketer dataset contains data abour British first class cricketers, born 1840-1960.\n",
    "\n",
    "The variables are:\n",
    "\n",
    "left: a factor with levels right left\n",
    "\n",
    "year: numeric, year of birth\n",
    "\n",
    "life:  numeric, lifetime or lifespan to 1992\n",
    "\n",
    "dead: numeric (0 = alive (censored), 1 = dead, in 1992)\n",
    "\n",
    "acd: numeric (0 = not accidental or not dead, 1 = accidental death)\n",
    "\n",
    "kia: numeric (0 = not killed in action, 1 = killed in action)\n",
    "\n",
    "inbed:  numeric (0 = did not die in bed, 1 = died in bed)\n",
    "\n",
    "cause: a factor with levels alive acd (accidental death) inbed (died in bed)\n",
    "\n",
    "1) Load the data\n",
    "\n",
    "2) Describe the data (number of cricketer, descriptive statistics of each variable)\n",
    "\n",
    "3) Plot the data\n",
    "\n",
    "4) Is there a difference of lifespan between right and left handed cricketer?"
   ]
  },
  {
   "cell_type": "code",
   "execution_count": null,
   "metadata": {
    "collapsed": true
   },
   "outputs": [],
   "source": [
    "# type your code here"
   ]
  },
  {
   "cell_type": "markdown",
   "metadata": {},
   "source": [
    "*Write your conclusion here*"
   ]
  }
 ],
 "metadata": {
  "kernelspec": {
   "display_name": "Python 3",
   "language": "python",
   "name": "python3"
  },
  "language_info": {
   "codemirror_mode": {
    "name": "ipython",
    "version": 3
   },
   "file_extension": ".py",
   "mimetype": "text/x-python",
   "name": "python",
   "nbconvert_exporter": "python",
   "pygments_lexer": "ipython3",
   "version": "3.6.3"
  }
 },
 "nbformat": 4,
 "nbformat_minor": 2
}
