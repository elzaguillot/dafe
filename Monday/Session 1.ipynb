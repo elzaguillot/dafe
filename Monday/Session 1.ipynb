{
 "cells": [
  {
   "cell_type": "markdown",
   "metadata": {},
   "source": [
    "# Data Analytics for Engineers - Session 1\n",
    "\n",
    "Monday 12/04/19\n",
    "\n",
    "## Objective\n",
    "\n",
    "- Use Jupyter notebooks\n",
    "- Load data \n",
    "- Perform basic statistics \n",
    "- Simple data vizualisation\n",
    "\n",
    "## Jupyter notebooks\n",
    "\n",
    "Jupyter notebooks enable you to write python code in a report like setting. It is mixing sections of text (written in Markdown) and section of code.\n",
    "\n",
    "Some further documentations on Jupyter notebooks:\n",
    "- link1\n",
    "- link2\n",
    "- shortcuts: http://johnlaudun.org/20131228-ipython-notebook-keyboard-shortcuts/\n",
    "\n",
    "\n",
    "Jupyter notebooks are files with the extension .ipynb. They must be open in a web browser for editing and execution.\n",
    "\n",
    "## Simple python\n",
    "\n",
    "To execute the following line clique on it and tap ctlr+Return"
   ]
  },
  {
   "cell_type": "code",
   "execution_count": 1,
   "metadata": {},
   "outputs": [
    {
     "name": "stdout",
     "output_type": "stream",
     "text": [
      "hello world\n"
     ]
    }
   ],
   "source": [
    "print(\"hello world\")"
   ]
  },
  {
   "cell_type": "markdown",
   "metadata": {},
   "source": [
    "Try a new command (for example print \"hello you\")"
   ]
  },
  {
   "cell_type": "code",
   "execution_count": null,
   "metadata": {
    "collapsed": true
   },
   "outputs": [],
   "source": []
  },
  {
   "cell_type": "markdown",
   "metadata": {
    "collapsed": true
   },
   "source": [
    "## Reading a data file\n",
    "\n",
    "The most basic way to open a file in data, is using the command `open` with the attribute `r` for read."
   ]
  },
  {
   "cell_type": "code",
   "execution_count": 64,
   "metadata": {},
   "outputs": [],
   "source": [
    "f=open(\"datasets\\melsyd.csv\",\"r\")"
   ]
  },
  {
   "cell_type": "markdown",
   "metadata": {
    "collapsed": true
   },
   "source": [
    "However this is not very handy  for extracting dataset from a file . Instead, in data analysis, we are going to use specific commands that open files filed with data.\n",
    "For more information on how to use the standard open / read python functions see https://www.w3schools.com/python/python_file_open.asp"
   ]
  },
  {
   "cell_type": "markdown",
   "metadata": {},
   "source": [
    " ## Libraries\n",
    " \n",
    " Python contains many function out of the box, but not all. Libraries are sets of function that can be installed on top of the basic ones. In data analysis, we typically need extra function for doing statistics, plotting the data, re-arranging the data, etc. \n",
    " \n",
    "The main libraries for data analysis are:\n",
    "- pandas: for data frame\n",
    "- numpy: for numerical manipulations\n",
    "- matplotlib: for plotting\n"
   ]
  },
  {
   "cell_type": "markdown",
   "metadata": {},
   "source": [
    "## Data frames\n",
    "\n",
    "Pandas is a library to deal with data frame. A data frame is a basic structure to deal with any data that can be represented by an array: each column is a variable, each line is a sample (individual, object, country, etc.)\n",
    "\n",
    "All the document for different pandas functions can be found here: https://pandas.pydata.org/pandas-docs/stable/reference/frame.html \n",
    "\n",
    "However official documentation can be a bit hard to understand, so google is your best friend.\n",
    "\n",
    "### Loading the data\n",
    "\n",
    "Pandas lets you load csv (comma separated files) files."
   ]
  },
  {
   "cell_type": "code",
   "execution_count": 7,
   "metadata": {
    "collapsed": true
   },
   "outputs": [],
   "source": [
    "import pandas as pd\n",
    "import numpy as np"
   ]
  },
  {
   "cell_type": "code",
   "execution_count": 8,
   "metadata": {},
   "outputs": [
    {
     "data": {
      "text/html": [
       "<div>\n",
       "<style>\n",
       "    .dataframe thead tr:only-child th {\n",
       "        text-align: right;\n",
       "    }\n",
       "\n",
       "    .dataframe thead th {\n",
       "        text-align: left;\n",
       "    }\n",
       "\n",
       "    .dataframe tbody tr th {\n",
       "        vertical-align: top;\n",
       "    }\n",
       "</style>\n",
       "<table border=\"1\" class=\"dataframe\">\n",
       "  <thead>\n",
       "    <tr style=\"text-align: right;\">\n",
       "      <th></th>\n",
       "      <th>First.Class</th>\n",
       "      <th>Business.Class</th>\n",
       "      <th>Economy.Class</th>\n",
       "    </tr>\n",
       "  </thead>\n",
       "  <tbody>\n",
       "    <tr>\n",
       "      <th>0</th>\n",
       "      <td>1.912</td>\n",
       "      <td>NaN</td>\n",
       "      <td>20.167</td>\n",
       "    </tr>\n",
       "    <tr>\n",
       "      <th>1</th>\n",
       "      <td>1.848</td>\n",
       "      <td>NaN</td>\n",
       "      <td>20.161</td>\n",
       "    </tr>\n",
       "    <tr>\n",
       "      <th>2</th>\n",
       "      <td>1.856</td>\n",
       "      <td>NaN</td>\n",
       "      <td>19.993</td>\n",
       "    </tr>\n",
       "    <tr>\n",
       "      <th>3</th>\n",
       "      <td>2.142</td>\n",
       "      <td>NaN</td>\n",
       "      <td>20.986</td>\n",
       "    </tr>\n",
       "    <tr>\n",
       "      <th>4</th>\n",
       "      <td>2.118</td>\n",
       "      <td>NaN</td>\n",
       "      <td>20.497</td>\n",
       "    </tr>\n",
       "    <tr>\n",
       "      <th>5</th>\n",
       "      <td>2.048</td>\n",
       "      <td>NaN</td>\n",
       "      <td>20.770</td>\n",
       "    </tr>\n",
       "    <tr>\n",
       "      <th>6</th>\n",
       "      <td>2.111</td>\n",
       "      <td>NaN</td>\n",
       "      <td>21.111</td>\n",
       "    </tr>\n",
       "    <tr>\n",
       "      <th>7</th>\n",
       "      <td>2.199</td>\n",
       "      <td>NaN</td>\n",
       "      <td>20.675</td>\n",
       "    </tr>\n",
       "    <tr>\n",
       "      <th>8</th>\n",
       "      <td>2.231</td>\n",
       "      <td>NaN</td>\n",
       "      <td>22.092</td>\n",
       "    </tr>\n",
       "    <tr>\n",
       "      <th>9</th>\n",
       "      <td>2.081</td>\n",
       "      <td>NaN</td>\n",
       "      <td>20.772</td>\n",
       "    </tr>\n",
       "    <tr>\n",
       "      <th>10</th>\n",
       "      <td>2.213</td>\n",
       "      <td>NaN</td>\n",
       "      <td>21.642</td>\n",
       "    </tr>\n",
       "    <tr>\n",
       "      <th>11</th>\n",
       "      <td>2.131</td>\n",
       "      <td>NaN</td>\n",
       "      <td>21.911</td>\n",
       "    </tr>\n",
       "    <tr>\n",
       "      <th>12</th>\n",
       "      <td>NaN</td>\n",
       "      <td>NaN</td>\n",
       "      <td>NaN</td>\n",
       "    </tr>\n",
       "    <tr>\n",
       "      <th>13</th>\n",
       "      <td>2.131</td>\n",
       "      <td>NaN</td>\n",
       "      <td>23.777</td>\n",
       "    </tr>\n",
       "    <tr>\n",
       "      <th>14</th>\n",
       "      <td>2.034</td>\n",
       "      <td>NaN</td>\n",
       "      <td>22.658</td>\n",
       "    </tr>\n",
       "    <tr>\n",
       "      <th>15</th>\n",
       "      <td>2.190</td>\n",
       "      <td>NaN</td>\n",
       "      <td>23.515</td>\n",
       "    </tr>\n",
       "    <tr>\n",
       "      <th>16</th>\n",
       "      <td>2.262</td>\n",
       "      <td>NaN</td>\n",
       "      <td>21.384</td>\n",
       "    </tr>\n",
       "    <tr>\n",
       "      <th>17</th>\n",
       "      <td>2.579</td>\n",
       "      <td>NaN</td>\n",
       "      <td>24.344</td>\n",
       "    </tr>\n",
       "    <tr>\n",
       "      <th>18</th>\n",
       "      <td>2.367</td>\n",
       "      <td>NaN</td>\n",
       "      <td>21.137</td>\n",
       "    </tr>\n",
       "    <tr>\n",
       "      <th>19</th>\n",
       "      <td>2.432</td>\n",
       "      <td>NaN</td>\n",
       "      <td>23.069</td>\n",
       "    </tr>\n",
       "    <tr>\n",
       "      <th>20</th>\n",
       "      <td>2.640</td>\n",
       "      <td>NaN</td>\n",
       "      <td>23.664</td>\n",
       "    </tr>\n",
       "    <tr>\n",
       "      <th>21</th>\n",
       "      <td>2.614</td>\n",
       "      <td>NaN</td>\n",
       "      <td>23.219</td>\n",
       "    </tr>\n",
       "    <tr>\n",
       "      <th>22</th>\n",
       "      <td>2.569</td>\n",
       "      <td>NaN</td>\n",
       "      <td>23.192</td>\n",
       "    </tr>\n",
       "    <tr>\n",
       "      <th>23</th>\n",
       "      <td>2.523</td>\n",
       "      <td>NaN</td>\n",
       "      <td>23.475</td>\n",
       "    </tr>\n",
       "    <tr>\n",
       "      <th>24</th>\n",
       "      <td>2.260</td>\n",
       "      <td>NaN</td>\n",
       "      <td>22.377</td>\n",
       "    </tr>\n",
       "    <tr>\n",
       "      <th>25</th>\n",
       "      <td>1.117</td>\n",
       "      <td>NaN</td>\n",
       "      <td>16.606</td>\n",
       "    </tr>\n",
       "    <tr>\n",
       "      <th>26</th>\n",
       "      <td>0.590</td>\n",
       "      <td>NaN</td>\n",
       "      <td>13.987</td>\n",
       "    </tr>\n",
       "    <tr>\n",
       "      <th>27</th>\n",
       "      <td>0.966</td>\n",
       "      <td>NaN</td>\n",
       "      <td>16.251</td>\n",
       "    </tr>\n",
       "    <tr>\n",
       "      <th>28</th>\n",
       "      <td>1.235</td>\n",
       "      <td>NaN</td>\n",
       "      <td>18.439</td>\n",
       "    </tr>\n",
       "    <tr>\n",
       "      <th>29</th>\n",
       "      <td>2.001</td>\n",
       "      <td>NaN</td>\n",
       "      <td>20.262</td>\n",
       "    </tr>\n",
       "    <tr>\n",
       "      <th>...</th>\n",
       "      <td>...</td>\n",
       "      <td>...</td>\n",
       "      <td>...</td>\n",
       "    </tr>\n",
       "    <tr>\n",
       "      <th>253</th>\n",
       "      <td>1.808</td>\n",
       "      <td>8.828</td>\n",
       "      <td>17.018</td>\n",
       "    </tr>\n",
       "    <tr>\n",
       "      <th>254</th>\n",
       "      <td>1.839</td>\n",
       "      <td>8.078</td>\n",
       "      <td>18.111</td>\n",
       "    </tr>\n",
       "    <tr>\n",
       "      <th>255</th>\n",
       "      <td>1.714</td>\n",
       "      <td>7.527</td>\n",
       "      <td>18.410</td>\n",
       "    </tr>\n",
       "    <tr>\n",
       "      <th>256</th>\n",
       "      <td>1.730</td>\n",
       "      <td>7.486</td>\n",
       "      <td>20.541</td>\n",
       "    </tr>\n",
       "    <tr>\n",
       "      <th>257</th>\n",
       "      <td>1.725</td>\n",
       "      <td>6.711</td>\n",
       "      <td>21.408</td>\n",
       "    </tr>\n",
       "    <tr>\n",
       "      <th>258</th>\n",
       "      <td>1.456</td>\n",
       "      <td>5.930</td>\n",
       "      <td>21.545</td>\n",
       "    </tr>\n",
       "    <tr>\n",
       "      <th>259</th>\n",
       "      <td>1.447</td>\n",
       "      <td>5.462</td>\n",
       "      <td>21.732</td>\n",
       "    </tr>\n",
       "    <tr>\n",
       "      <th>260</th>\n",
       "      <td>1.357</td>\n",
       "      <td>3.710</td>\n",
       "      <td>26.173</td>\n",
       "    </tr>\n",
       "    <tr>\n",
       "      <th>261</th>\n",
       "      <td>1.280</td>\n",
       "      <td>2.894</td>\n",
       "      <td>27.432</td>\n",
       "    </tr>\n",
       "    <tr>\n",
       "      <th>262</th>\n",
       "      <td>1.363</td>\n",
       "      <td>3.008</td>\n",
       "      <td>28.362</td>\n",
       "    </tr>\n",
       "    <tr>\n",
       "      <th>263</th>\n",
       "      <td>1.228</td>\n",
       "      <td>2.829</td>\n",
       "      <td>29.827</td>\n",
       "    </tr>\n",
       "    <tr>\n",
       "      <th>264</th>\n",
       "      <td>1.411</td>\n",
       "      <td>3.252</td>\n",
       "      <td>29.870</td>\n",
       "    </tr>\n",
       "    <tr>\n",
       "      <th>265</th>\n",
       "      <td>1.130</td>\n",
       "      <td>3.021</td>\n",
       "      <td>26.534</td>\n",
       "    </tr>\n",
       "    <tr>\n",
       "      <th>266</th>\n",
       "      <td>1.153</td>\n",
       "      <td>2.667</td>\n",
       "      <td>26.434</td>\n",
       "    </tr>\n",
       "    <tr>\n",
       "      <th>267</th>\n",
       "      <td>1.257</td>\n",
       "      <td>2.740</td>\n",
       "      <td>26.137</td>\n",
       "    </tr>\n",
       "    <tr>\n",
       "      <th>268</th>\n",
       "      <td>1.259</td>\n",
       "      <td>2.807</td>\n",
       "      <td>27.365</td>\n",
       "    </tr>\n",
       "    <tr>\n",
       "      <th>269</th>\n",
       "      <td>1.153</td>\n",
       "      <td>2.961</td>\n",
       "      <td>27.910</td>\n",
       "    </tr>\n",
       "    <tr>\n",
       "      <th>270</th>\n",
       "      <td>1.202</td>\n",
       "      <td>2.570</td>\n",
       "      <td>26.311</td>\n",
       "    </tr>\n",
       "    <tr>\n",
       "      <th>271</th>\n",
       "      <td>1.185</td>\n",
       "      <td>2.671</td>\n",
       "      <td>27.538</td>\n",
       "    </tr>\n",
       "    <tr>\n",
       "      <th>272</th>\n",
       "      <td>1.247</td>\n",
       "      <td>2.809</td>\n",
       "      <td>29.445</td>\n",
       "    </tr>\n",
       "    <tr>\n",
       "      <th>273</th>\n",
       "      <td>1.434</td>\n",
       "      <td>2.712</td>\n",
       "      <td>28.326</td>\n",
       "    </tr>\n",
       "    <tr>\n",
       "      <th>274</th>\n",
       "      <td>1.450</td>\n",
       "      <td>2.606</td>\n",
       "      <td>30.203</td>\n",
       "    </tr>\n",
       "    <tr>\n",
       "      <th>275</th>\n",
       "      <td>1.227</td>\n",
       "      <td>2.500</td>\n",
       "      <td>27.838</td>\n",
       "    </tr>\n",
       "    <tr>\n",
       "      <th>276</th>\n",
       "      <td>1.245</td>\n",
       "      <td>2.898</td>\n",
       "      <td>27.760</td>\n",
       "    </tr>\n",
       "    <tr>\n",
       "      <th>277</th>\n",
       "      <td>1.417</td>\n",
       "      <td>3.152</td>\n",
       "      <td>27.322</td>\n",
       "    </tr>\n",
       "    <tr>\n",
       "      <th>278</th>\n",
       "      <td>1.458</td>\n",
       "      <td>3.053</td>\n",
       "      <td>28.837</td>\n",
       "    </tr>\n",
       "    <tr>\n",
       "      <th>279</th>\n",
       "      <td>1.398</td>\n",
       "      <td>2.745</td>\n",
       "      <td>26.548</td>\n",
       "    </tr>\n",
       "    <tr>\n",
       "      <th>280</th>\n",
       "      <td>1.423</td>\n",
       "      <td>3.156</td>\n",
       "      <td>27.279</td>\n",
       "    </tr>\n",
       "    <tr>\n",
       "      <th>281</th>\n",
       "      <td>1.358</td>\n",
       "      <td>3.069</td>\n",
       "      <td>27.306</td>\n",
       "    </tr>\n",
       "    <tr>\n",
       "      <th>282</th>\n",
       "      <td>1.488</td>\n",
       "      <td>3.379</td>\n",
       "      <td>28.299</td>\n",
       "    </tr>\n",
       "  </tbody>\n",
       "</table>\n",
       "<p>283 rows × 3 columns</p>\n",
       "</div>"
      ],
      "text/plain": [
       "     First.Class  Business.Class  Economy.Class\n",
       "0          1.912             NaN         20.167\n",
       "1          1.848             NaN         20.161\n",
       "2          1.856             NaN         19.993\n",
       "3          2.142             NaN         20.986\n",
       "4          2.118             NaN         20.497\n",
       "5          2.048             NaN         20.770\n",
       "6          2.111             NaN         21.111\n",
       "7          2.199             NaN         20.675\n",
       "8          2.231             NaN         22.092\n",
       "9          2.081             NaN         20.772\n",
       "10         2.213             NaN         21.642\n",
       "11         2.131             NaN         21.911\n",
       "12           NaN             NaN            NaN\n",
       "13         2.131             NaN         23.777\n",
       "14         2.034             NaN         22.658\n",
       "15         2.190             NaN         23.515\n",
       "16         2.262             NaN         21.384\n",
       "17         2.579             NaN         24.344\n",
       "18         2.367             NaN         21.137\n",
       "19         2.432             NaN         23.069\n",
       "20         2.640             NaN         23.664\n",
       "21         2.614             NaN         23.219\n",
       "22         2.569             NaN         23.192\n",
       "23         2.523             NaN         23.475\n",
       "24         2.260             NaN         22.377\n",
       "25         1.117             NaN         16.606\n",
       "26         0.590             NaN         13.987\n",
       "27         0.966             NaN         16.251\n",
       "28         1.235             NaN         18.439\n",
       "29         2.001             NaN         20.262\n",
       "..           ...             ...            ...\n",
       "253        1.808           8.828         17.018\n",
       "254        1.839           8.078         18.111\n",
       "255        1.714           7.527         18.410\n",
       "256        1.730           7.486         20.541\n",
       "257        1.725           6.711         21.408\n",
       "258        1.456           5.930         21.545\n",
       "259        1.447           5.462         21.732\n",
       "260        1.357           3.710         26.173\n",
       "261        1.280           2.894         27.432\n",
       "262        1.363           3.008         28.362\n",
       "263        1.228           2.829         29.827\n",
       "264        1.411           3.252         29.870\n",
       "265        1.130           3.021         26.534\n",
       "266        1.153           2.667         26.434\n",
       "267        1.257           2.740         26.137\n",
       "268        1.259           2.807         27.365\n",
       "269        1.153           2.961         27.910\n",
       "270        1.202           2.570         26.311\n",
       "271        1.185           2.671         27.538\n",
       "272        1.247           2.809         29.445\n",
       "273        1.434           2.712         28.326\n",
       "274        1.450           2.606         30.203\n",
       "275        1.227           2.500         27.838\n",
       "276        1.245           2.898         27.760\n",
       "277        1.417           3.152         27.322\n",
       "278        1.458           3.053         28.837\n",
       "279        1.398           2.745         26.548\n",
       "280        1.423           3.156         27.279\n",
       "281        1.358           3.069         27.306\n",
       "282        1.488           3.379         28.299\n",
       "\n",
       "[283 rows x 3 columns]"
      ]
     },
     "execution_count": 8,
     "metadata": {},
     "output_type": "execute_result"
    }
   ],
   "source": [
    "pd.read_csv(\"datasets\\melsyd.csv\")"
   ]
  },
  {
   "cell_type": "markdown",
   "metadata": {},
   "source": [
    "To store this data in a variable we can do:"
   ]
  },
  {
   "cell_type": "code",
   "execution_count": 9,
   "metadata": {},
   "outputs": [],
   "source": [
    "ansett=pd.read_csv(\"datasets\\melsyd.csv\")"
   ]
  },
  {
   "cell_type": "markdown",
   "metadata": {},
   "source": [
    "This dataset represents the number of passenger (per thousands) that travelled each with ansett airlines between 1987 and 1992.\n",
    "\n",
    "### Manipulating the data\n",
    "\n",
    "*Exercise*: execute the following commands and explain what they do:\n"
   ]
  },
  {
   "cell_type": "code",
   "execution_count": 10,
   "metadata": {},
   "outputs": [
    {
     "data": {
      "text/plain": [
       "Index(['First.Class', 'Business.Class', 'Economy.Class'], dtype='object')"
      ]
     },
     "execution_count": 10,
     "metadata": {},
     "output_type": "execute_result"
    }
   ],
   "source": [
    "ansett.columns"
   ]
  },
  {
   "cell_type": "markdown",
   "metadata": {},
   "source": [
    "type what `columns` does"
   ]
  },
  {
   "cell_type": "code",
   "execution_count": 11,
   "metadata": {},
   "outputs": [
    {
     "data": {
      "text/plain": [
       "RangeIndex(start=0, stop=283, step=1)"
      ]
     },
     "execution_count": 11,
     "metadata": {},
     "output_type": "execute_result"
    }
   ],
   "source": [
    "ansett.index"
   ]
  },
  {
   "cell_type": "markdown",
   "metadata": {},
   "source": [
    "type what `df.index` does"
   ]
  },
  {
   "cell_type": "code",
   "execution_count": 12,
   "metadata": {},
   "outputs": [
    {
     "data": {
      "text/html": [
       "<div>\n",
       "<style>\n",
       "    .dataframe thead tr:only-child th {\n",
       "        text-align: right;\n",
       "    }\n",
       "\n",
       "    .dataframe thead th {\n",
       "        text-align: left;\n",
       "    }\n",
       "\n",
       "    .dataframe tbody tr th {\n",
       "        vertical-align: top;\n",
       "    }\n",
       "</style>\n",
       "<table border=\"1\" class=\"dataframe\">\n",
       "  <thead>\n",
       "    <tr style=\"text-align: right;\">\n",
       "      <th></th>\n",
       "      <th>First.Class</th>\n",
       "      <th>Business.Class</th>\n",
       "      <th>Economy.Class</th>\n",
       "    </tr>\n",
       "  </thead>\n",
       "  <tbody>\n",
       "    <tr>\n",
       "      <th>1</th>\n",
       "      <td>1.848</td>\n",
       "      <td>NaN</td>\n",
       "      <td>20.161</td>\n",
       "    </tr>\n",
       "    <tr>\n",
       "      <th>2</th>\n",
       "      <td>1.856</td>\n",
       "      <td>NaN</td>\n",
       "      <td>19.993</td>\n",
       "    </tr>\n",
       "    <tr>\n",
       "      <th>3</th>\n",
       "      <td>2.142</td>\n",
       "      <td>NaN</td>\n",
       "      <td>20.986</td>\n",
       "    </tr>\n",
       "    <tr>\n",
       "      <th>4</th>\n",
       "      <td>2.118</td>\n",
       "      <td>NaN</td>\n",
       "      <td>20.497</td>\n",
       "    </tr>\n",
       "    <tr>\n",
       "      <th>5</th>\n",
       "      <td>2.048</td>\n",
       "      <td>NaN</td>\n",
       "      <td>20.770</td>\n",
       "    </tr>\n",
       "    <tr>\n",
       "      <th>6</th>\n",
       "      <td>2.111</td>\n",
       "      <td>NaN</td>\n",
       "      <td>21.111</td>\n",
       "    </tr>\n",
       "    <tr>\n",
       "      <th>7</th>\n",
       "      <td>2.199</td>\n",
       "      <td>NaN</td>\n",
       "      <td>20.675</td>\n",
       "    </tr>\n",
       "    <tr>\n",
       "      <th>8</th>\n",
       "      <td>2.231</td>\n",
       "      <td>NaN</td>\n",
       "      <td>22.092</td>\n",
       "    </tr>\n",
       "    <tr>\n",
       "      <th>9</th>\n",
       "      <td>2.081</td>\n",
       "      <td>NaN</td>\n",
       "      <td>20.772</td>\n",
       "    </tr>\n",
       "  </tbody>\n",
       "</table>\n",
       "</div>"
      ],
      "text/plain": [
       "   First.Class  Business.Class  Economy.Class\n",
       "1        1.848             NaN         20.161\n",
       "2        1.856             NaN         19.993\n",
       "3        2.142             NaN         20.986\n",
       "4        2.118             NaN         20.497\n",
       "5        2.048             NaN         20.770\n",
       "6        2.111             NaN         21.111\n",
       "7        2.199             NaN         20.675\n",
       "8        2.231             NaN         22.092\n",
       "9        2.081             NaN         20.772"
      ]
     },
     "execution_count": 12,
     "metadata": {},
     "output_type": "execute_result"
    }
   ],
   "source": [
    "ansett[1:10]"
   ]
  },
  {
   "cell_type": "markdown",
   "metadata": {},
   "source": [
    "type with `df[1:10]`"
   ]
  },
  {
   "cell_type": "code",
   "execution_count": 13,
   "metadata": {},
   "outputs": [
    {
     "data": {
      "text/plain": [
       "1    20.161\n",
       "2    19.993\n",
       "3    20.986\n",
       "4    20.497\n",
       "5    20.770\n",
       "6    21.111\n",
       "7    20.675\n",
       "8    22.092\n",
       "9    20.772\n",
       "Name: Economy.Class, dtype: float64"
      ]
     },
     "execution_count": 13,
     "metadata": {},
     "output_type": "execute_result"
    }
   ],
   "source": [
    "ansett.iloc[1:10,2]"
   ]
  },
  {
   "cell_type": "markdown",
   "metadata": {},
   "source": [
    "Type what `ìloc` does"
   ]
  },
  {
   "cell_type": "code",
   "execution_count": 14,
   "metadata": {},
   "outputs": [
    {
     "data": {
      "text/html": [
       "<div>\n",
       "<style>\n",
       "    .dataframe thead tr:only-child th {\n",
       "        text-align: right;\n",
       "    }\n",
       "\n",
       "    .dataframe thead th {\n",
       "        text-align: left;\n",
       "    }\n",
       "\n",
       "    .dataframe tbody tr th {\n",
       "        vertical-align: top;\n",
       "    }\n",
       "</style>\n",
       "<table border=\"1\" class=\"dataframe\">\n",
       "  <thead>\n",
       "    <tr style=\"text-align: right;\">\n",
       "      <th></th>\n",
       "      <th>First.Class</th>\n",
       "      <th>Business.Class</th>\n",
       "      <th>Economy.Class</th>\n",
       "    </tr>\n",
       "  </thead>\n",
       "  <tbody>\n",
       "    <tr>\n",
       "      <th>count</th>\n",
       "      <td>282.00000</td>\n",
       "      <td>176.000000</td>\n",
       "      <td>282.000000</td>\n",
       "    </tr>\n",
       "    <tr>\n",
       "      <th>mean</th>\n",
       "      <td>1.46156</td>\n",
       "      <td>2.213136</td>\n",
       "      <td>21.508500</td>\n",
       "    </tr>\n",
       "    <tr>\n",
       "      <th>std</th>\n",
       "      <td>0.63982</td>\n",
       "      <td>1.863777</td>\n",
       "      <td>5.194438</td>\n",
       "    </tr>\n",
       "    <tr>\n",
       "      <th>min</th>\n",
       "      <td>0.00000</td>\n",
       "      <td>0.000000</td>\n",
       "      <td>0.000000</td>\n",
       "    </tr>\n",
       "    <tr>\n",
       "      <th>25%</th>\n",
       "      <td>0.98050</td>\n",
       "      <td>1.532250</td>\n",
       "      <td>19.694000</td>\n",
       "    </tr>\n",
       "    <tr>\n",
       "      <th>50%</th>\n",
       "      <td>1.40950</td>\n",
       "      <td>1.874000</td>\n",
       "      <td>21.523500</td>\n",
       "    </tr>\n",
       "    <tr>\n",
       "      <th>75%</th>\n",
       "      <td>2.02625</td>\n",
       "      <td>2.231000</td>\n",
       "      <td>24.048750</td>\n",
       "    </tr>\n",
       "    <tr>\n",
       "      <th>max</th>\n",
       "      <td>2.71600</td>\n",
       "      <td>10.433000</td>\n",
       "      <td>32.468000</td>\n",
       "    </tr>\n",
       "  </tbody>\n",
       "</table>\n",
       "</div>"
      ],
      "text/plain": [
       "       First.Class  Business.Class  Economy.Class\n",
       "count    282.00000      176.000000     282.000000\n",
       "mean       1.46156        2.213136      21.508500\n",
       "std        0.63982        1.863777       5.194438\n",
       "min        0.00000        0.000000       0.000000\n",
       "25%        0.98050        1.532250      19.694000\n",
       "50%        1.40950        1.874000      21.523500\n",
       "75%        2.02625        2.231000      24.048750\n",
       "max        2.71600       10.433000      32.468000"
      ]
     },
     "execution_count": 14,
     "metadata": {},
     "output_type": "execute_result"
    }
   ],
   "source": [
    "ansett.describe()"
   ]
  },
  {
   "cell_type": "markdown",
   "metadata": {},
   "source": [
    "Type what `describe` does"
   ]
  },
  {
   "cell_type": "code",
   "execution_count": 15,
   "metadata": {
    "scrolled": true
   },
   "outputs": [
    {
     "data": {
      "text/html": [
       "<div>\n",
       "<style>\n",
       "    .dataframe thead tr:only-child th {\n",
       "        text-align: right;\n",
       "    }\n",
       "\n",
       "    .dataframe thead th {\n",
       "        text-align: left;\n",
       "    }\n",
       "\n",
       "    .dataframe tbody tr th {\n",
       "        vertical-align: top;\n",
       "    }\n",
       "</style>\n",
       "<table border=\"1\" class=\"dataframe\">\n",
       "  <thead>\n",
       "    <tr style=\"text-align: right;\">\n",
       "      <th></th>\n",
       "      <th>First.Class</th>\n",
       "      <th>Business.Class</th>\n",
       "      <th>Economy.Class</th>\n",
       "    </tr>\n",
       "  </thead>\n",
       "  <tbody>\n",
       "    <tr>\n",
       "      <th>3</th>\n",
       "      <td>2.142</td>\n",
       "      <td>NaN</td>\n",
       "      <td>20.986</td>\n",
       "    </tr>\n",
       "    <tr>\n",
       "      <th>4</th>\n",
       "      <td>2.118</td>\n",
       "      <td>NaN</td>\n",
       "      <td>20.497</td>\n",
       "    </tr>\n",
       "    <tr>\n",
       "      <th>5</th>\n",
       "      <td>2.048</td>\n",
       "      <td>NaN</td>\n",
       "      <td>20.770</td>\n",
       "    </tr>\n",
       "    <tr>\n",
       "      <th>6</th>\n",
       "      <td>2.111</td>\n",
       "      <td>NaN</td>\n",
       "      <td>21.111</td>\n",
       "    </tr>\n",
       "    <tr>\n",
       "      <th>7</th>\n",
       "      <td>2.199</td>\n",
       "      <td>NaN</td>\n",
       "      <td>20.675</td>\n",
       "    </tr>\n",
       "    <tr>\n",
       "      <th>8</th>\n",
       "      <td>2.231</td>\n",
       "      <td>NaN</td>\n",
       "      <td>22.092</td>\n",
       "    </tr>\n",
       "    <tr>\n",
       "      <th>9</th>\n",
       "      <td>2.081</td>\n",
       "      <td>NaN</td>\n",
       "      <td>20.772</td>\n",
       "    </tr>\n",
       "    <tr>\n",
       "      <th>10</th>\n",
       "      <td>2.213</td>\n",
       "      <td>NaN</td>\n",
       "      <td>21.642</td>\n",
       "    </tr>\n",
       "    <tr>\n",
       "      <th>11</th>\n",
       "      <td>2.131</td>\n",
       "      <td>NaN</td>\n",
       "      <td>21.911</td>\n",
       "    </tr>\n",
       "    <tr>\n",
       "      <th>13</th>\n",
       "      <td>2.131</td>\n",
       "      <td>NaN</td>\n",
       "      <td>23.777</td>\n",
       "    </tr>\n",
       "    <tr>\n",
       "      <th>14</th>\n",
       "      <td>2.034</td>\n",
       "      <td>NaN</td>\n",
       "      <td>22.658</td>\n",
       "    </tr>\n",
       "    <tr>\n",
       "      <th>15</th>\n",
       "      <td>2.190</td>\n",
       "      <td>NaN</td>\n",
       "      <td>23.515</td>\n",
       "    </tr>\n",
       "    <tr>\n",
       "      <th>16</th>\n",
       "      <td>2.262</td>\n",
       "      <td>NaN</td>\n",
       "      <td>21.384</td>\n",
       "    </tr>\n",
       "    <tr>\n",
       "      <th>17</th>\n",
       "      <td>2.579</td>\n",
       "      <td>NaN</td>\n",
       "      <td>24.344</td>\n",
       "    </tr>\n",
       "    <tr>\n",
       "      <th>18</th>\n",
       "      <td>2.367</td>\n",
       "      <td>NaN</td>\n",
       "      <td>21.137</td>\n",
       "    </tr>\n",
       "    <tr>\n",
       "      <th>19</th>\n",
       "      <td>2.432</td>\n",
       "      <td>NaN</td>\n",
       "      <td>23.069</td>\n",
       "    </tr>\n",
       "    <tr>\n",
       "      <th>20</th>\n",
       "      <td>2.640</td>\n",
       "      <td>NaN</td>\n",
       "      <td>23.664</td>\n",
       "    </tr>\n",
       "    <tr>\n",
       "      <th>21</th>\n",
       "      <td>2.614</td>\n",
       "      <td>NaN</td>\n",
       "      <td>23.219</td>\n",
       "    </tr>\n",
       "    <tr>\n",
       "      <th>22</th>\n",
       "      <td>2.569</td>\n",
       "      <td>NaN</td>\n",
       "      <td>23.192</td>\n",
       "    </tr>\n",
       "    <tr>\n",
       "      <th>23</th>\n",
       "      <td>2.523</td>\n",
       "      <td>NaN</td>\n",
       "      <td>23.475</td>\n",
       "    </tr>\n",
       "    <tr>\n",
       "      <th>24</th>\n",
       "      <td>2.260</td>\n",
       "      <td>NaN</td>\n",
       "      <td>22.377</td>\n",
       "    </tr>\n",
       "    <tr>\n",
       "      <th>29</th>\n",
       "      <td>2.001</td>\n",
       "      <td>NaN</td>\n",
       "      <td>20.262</td>\n",
       "    </tr>\n",
       "    <tr>\n",
       "      <th>31</th>\n",
       "      <td>2.089</td>\n",
       "      <td>NaN</td>\n",
       "      <td>22.467</td>\n",
       "    </tr>\n",
       "    <tr>\n",
       "      <th>32</th>\n",
       "      <td>2.716</td>\n",
       "      <td>NaN</td>\n",
       "      <td>24.559</td>\n",
       "    </tr>\n",
       "    <tr>\n",
       "      <th>33</th>\n",
       "      <td>2.483</td>\n",
       "      <td>NaN</td>\n",
       "      <td>24.591</td>\n",
       "    </tr>\n",
       "    <tr>\n",
       "      <th>34</th>\n",
       "      <td>2.461</td>\n",
       "      <td>NaN</td>\n",
       "      <td>24.511</td>\n",
       "    </tr>\n",
       "    <tr>\n",
       "      <th>35</th>\n",
       "      <td>2.533</td>\n",
       "      <td>NaN</td>\n",
       "      <td>24.524</td>\n",
       "    </tr>\n",
       "    <tr>\n",
       "      <th>36</th>\n",
       "      <td>2.273</td>\n",
       "      <td>NaN</td>\n",
       "      <td>23.119</td>\n",
       "    </tr>\n",
       "    <tr>\n",
       "      <th>37</th>\n",
       "      <td>2.273</td>\n",
       "      <td>NaN</td>\n",
       "      <td>23.106</td>\n",
       "    </tr>\n",
       "    <tr>\n",
       "      <th>38</th>\n",
       "      <td>2.370</td>\n",
       "      <td>NaN</td>\n",
       "      <td>23.292</td>\n",
       "    </tr>\n",
       "    <tr>\n",
       "      <th>...</th>\n",
       "      <td>...</td>\n",
       "      <td>...</td>\n",
       "      <td>...</td>\n",
       "    </tr>\n",
       "    <tr>\n",
       "      <th>64</th>\n",
       "      <td>2.251</td>\n",
       "      <td>NaN</td>\n",
       "      <td>25.695</td>\n",
       "    </tr>\n",
       "    <tr>\n",
       "      <th>65</th>\n",
       "      <td>2.072</td>\n",
       "      <td>NaN</td>\n",
       "      <td>26.720</td>\n",
       "    </tr>\n",
       "    <tr>\n",
       "      <th>69</th>\n",
       "      <td>2.256</td>\n",
       "      <td>NaN</td>\n",
       "      <td>23.761</td>\n",
       "    </tr>\n",
       "    <tr>\n",
       "      <th>70</th>\n",
       "      <td>2.216</td>\n",
       "      <td>NaN</td>\n",
       "      <td>22.150</td>\n",
       "    </tr>\n",
       "    <tr>\n",
       "      <th>71</th>\n",
       "      <td>2.218</td>\n",
       "      <td>NaN</td>\n",
       "      <td>22.236</td>\n",
       "    </tr>\n",
       "    <tr>\n",
       "      <th>72</th>\n",
       "      <td>2.568</td>\n",
       "      <td>NaN</td>\n",
       "      <td>23.157</td>\n",
       "    </tr>\n",
       "    <tr>\n",
       "      <th>73</th>\n",
       "      <td>2.483</td>\n",
       "      <td>NaN</td>\n",
       "      <td>24.387</td>\n",
       "    </tr>\n",
       "    <tr>\n",
       "      <th>74</th>\n",
       "      <td>2.545</td>\n",
       "      <td>NaN</td>\n",
       "      <td>23.844</td>\n",
       "    </tr>\n",
       "    <tr>\n",
       "      <th>75</th>\n",
       "      <td>2.599</td>\n",
       "      <td>NaN</td>\n",
       "      <td>23.681</td>\n",
       "    </tr>\n",
       "    <tr>\n",
       "      <th>76</th>\n",
       "      <td>2.483</td>\n",
       "      <td>NaN</td>\n",
       "      <td>24.456</td>\n",
       "    </tr>\n",
       "    <tr>\n",
       "      <th>83</th>\n",
       "      <td>2.246</td>\n",
       "      <td>NaN</td>\n",
       "      <td>22.284</td>\n",
       "    </tr>\n",
       "    <tr>\n",
       "      <th>84</th>\n",
       "      <td>2.247</td>\n",
       "      <td>NaN</td>\n",
       "      <td>23.247</td>\n",
       "    </tr>\n",
       "    <tr>\n",
       "      <th>85</th>\n",
       "      <td>2.316</td>\n",
       "      <td>NaN</td>\n",
       "      <td>24.440</td>\n",
       "    </tr>\n",
       "    <tr>\n",
       "      <th>86</th>\n",
       "      <td>2.276</td>\n",
       "      <td>NaN</td>\n",
       "      <td>22.519</td>\n",
       "    </tr>\n",
       "    <tr>\n",
       "      <th>87</th>\n",
       "      <td>2.403</td>\n",
       "      <td>NaN</td>\n",
       "      <td>22.818</td>\n",
       "    </tr>\n",
       "    <tr>\n",
       "      <th>88</th>\n",
       "      <td>2.432</td>\n",
       "      <td>NaN</td>\n",
       "      <td>23.472</td>\n",
       "    </tr>\n",
       "    <tr>\n",
       "      <th>89</th>\n",
       "      <td>2.490</td>\n",
       "      <td>NaN</td>\n",
       "      <td>24.117</td>\n",
       "    </tr>\n",
       "    <tr>\n",
       "      <th>90</th>\n",
       "      <td>2.013</td>\n",
       "      <td>NaN</td>\n",
       "      <td>24.435</td>\n",
       "    </tr>\n",
       "    <tr>\n",
       "      <th>92</th>\n",
       "      <td>2.251</td>\n",
       "      <td>NaN</td>\n",
       "      <td>23.427</td>\n",
       "    </tr>\n",
       "    <tr>\n",
       "      <th>93</th>\n",
       "      <td>2.079</td>\n",
       "      <td>NaN</td>\n",
       "      <td>20.923</td>\n",
       "    </tr>\n",
       "    <tr>\n",
       "      <th>94</th>\n",
       "      <td>2.210</td>\n",
       "      <td>NaN</td>\n",
       "      <td>22.959</td>\n",
       "    </tr>\n",
       "    <tr>\n",
       "      <th>96</th>\n",
       "      <td>2.251</td>\n",
       "      <td>NaN</td>\n",
       "      <td>22.011</td>\n",
       "    </tr>\n",
       "    <tr>\n",
       "      <th>97</th>\n",
       "      <td>2.013</td>\n",
       "      <td>NaN</td>\n",
       "      <td>20.228</td>\n",
       "    </tr>\n",
       "    <tr>\n",
       "      <th>98</th>\n",
       "      <td>2.252</td>\n",
       "      <td>NaN</td>\n",
       "      <td>21.332</td>\n",
       "    </tr>\n",
       "    <tr>\n",
       "      <th>99</th>\n",
       "      <td>2.067</td>\n",
       "      <td>NaN</td>\n",
       "      <td>20.500</td>\n",
       "    </tr>\n",
       "    <tr>\n",
       "      <th>101</th>\n",
       "      <td>2.069</td>\n",
       "      <td>NaN</td>\n",
       "      <td>21.692</td>\n",
       "    </tr>\n",
       "    <tr>\n",
       "      <th>103</th>\n",
       "      <td>2.199</td>\n",
       "      <td>NaN</td>\n",
       "      <td>22.231</td>\n",
       "    </tr>\n",
       "    <tr>\n",
       "      <th>247</th>\n",
       "      <td>2.366</td>\n",
       "      <td>10.301</td>\n",
       "      <td>18.642</td>\n",
       "    </tr>\n",
       "    <tr>\n",
       "      <th>248</th>\n",
       "      <td>2.003</td>\n",
       "      <td>9.964</td>\n",
       "      <td>16.518</td>\n",
       "    </tr>\n",
       "    <tr>\n",
       "      <th>249</th>\n",
       "      <td>2.092</td>\n",
       "      <td>10.433</td>\n",
       "      <td>17.276</td>\n",
       "    </tr>\n",
       "  </tbody>\n",
       "</table>\n",
       "<p>76 rows × 3 columns</p>\n",
       "</div>"
      ],
      "text/plain": [
       "     First.Class  Business.Class  Economy.Class\n",
       "3          2.142             NaN         20.986\n",
       "4          2.118             NaN         20.497\n",
       "5          2.048             NaN         20.770\n",
       "6          2.111             NaN         21.111\n",
       "7          2.199             NaN         20.675\n",
       "8          2.231             NaN         22.092\n",
       "9          2.081             NaN         20.772\n",
       "10         2.213             NaN         21.642\n",
       "11         2.131             NaN         21.911\n",
       "13         2.131             NaN         23.777\n",
       "14         2.034             NaN         22.658\n",
       "15         2.190             NaN         23.515\n",
       "16         2.262             NaN         21.384\n",
       "17         2.579             NaN         24.344\n",
       "18         2.367             NaN         21.137\n",
       "19         2.432             NaN         23.069\n",
       "20         2.640             NaN         23.664\n",
       "21         2.614             NaN         23.219\n",
       "22         2.569             NaN         23.192\n",
       "23         2.523             NaN         23.475\n",
       "24         2.260             NaN         22.377\n",
       "29         2.001             NaN         20.262\n",
       "31         2.089             NaN         22.467\n",
       "32         2.716             NaN         24.559\n",
       "33         2.483             NaN         24.591\n",
       "34         2.461             NaN         24.511\n",
       "35         2.533             NaN         24.524\n",
       "36         2.273             NaN         23.119\n",
       "37         2.273             NaN         23.106\n",
       "38         2.370             NaN         23.292\n",
       "..           ...             ...            ...\n",
       "64         2.251             NaN         25.695\n",
       "65         2.072             NaN         26.720\n",
       "69         2.256             NaN         23.761\n",
       "70         2.216             NaN         22.150\n",
       "71         2.218             NaN         22.236\n",
       "72         2.568             NaN         23.157\n",
       "73         2.483             NaN         24.387\n",
       "74         2.545             NaN         23.844\n",
       "75         2.599             NaN         23.681\n",
       "76         2.483             NaN         24.456\n",
       "83         2.246             NaN         22.284\n",
       "84         2.247             NaN         23.247\n",
       "85         2.316             NaN         24.440\n",
       "86         2.276             NaN         22.519\n",
       "87         2.403             NaN         22.818\n",
       "88         2.432             NaN         23.472\n",
       "89         2.490             NaN         24.117\n",
       "90         2.013             NaN         24.435\n",
       "92         2.251             NaN         23.427\n",
       "93         2.079             NaN         20.923\n",
       "94         2.210             NaN         22.959\n",
       "96         2.251             NaN         22.011\n",
       "97         2.013             NaN         20.228\n",
       "98         2.252             NaN         21.332\n",
       "99         2.067             NaN         20.500\n",
       "101        2.069             NaN         21.692\n",
       "103        2.199             NaN         22.231\n",
       "247        2.366          10.301         18.642\n",
       "248        2.003           9.964         16.518\n",
       "249        2.092          10.433         17.276\n",
       "\n",
       "[76 rows x 3 columns]"
      ]
     },
     "execution_count": 15,
     "metadata": {},
     "output_type": "execute_result"
    }
   ],
   "source": [
    "ansett[ansett[\"First.Class\"] >2]"
   ]
  },
  {
   "cell_type": "markdown",
   "metadata": {},
   "source": [
    "\n",
    "## Descriptive statistics\n",
    "\n",
    "Pandas enables to do descriptive statistics, i.e. measures that will describe what is happening in your dataset. These are usually the center (mean, median), spread (range, interquatile-range, standard deviation).\n",
    "\n",
    "Let's start with the number of entree in the dataset:\n"
   ]
  },
  {
   "cell_type": "code",
   "execution_count": 62,
   "metadata": {},
   "outputs": [
    {
     "data": {
      "text/plain": [
       "First.Class       282\n",
       "Business.Class    176\n",
       "Economy.Class     282\n",
       "dtype: int64"
      ]
     },
     "execution_count": 62,
     "metadata": {},
     "output_type": "execute_result"
    }
   ],
   "source": [
    "ansett.count()"
   ]
  },
  {
   "cell_type": "markdown",
   "metadata": {},
   "source": [
    "To describe a variable, we are usually interested in the mean:"
   ]
  },
  {
   "cell_type": "code",
   "execution_count": 16,
   "metadata": {},
   "outputs": [
    {
     "data": {
      "text/plain": [
       "First.Class        1.461560\n",
       "Business.Class     2.213136\n",
       "Economy.Class     21.508500\n",
       "dtype: float64"
      ]
     },
     "execution_count": 16,
     "metadata": {},
     "output_type": "execute_result"
    }
   ],
   "source": [
    "ansett.mean()"
   ]
  },
  {
   "cell_type": "code",
   "execution_count": 17,
   "metadata": {},
   "outputs": [
    {
     "data": {
      "text/plain": [
       "1.4615602836879436"
      ]
     },
     "execution_count": 17,
     "metadata": {},
     "output_type": "execute_result"
    }
   ],
   "source": [
    "ansett['First.Class'].mean()"
   ]
  },
  {
   "cell_type": "code",
   "execution_count": 18,
   "metadata": {
    "scrolled": true
   },
   "outputs": [
    {
     "data": {
      "text/plain": [
       "2.213136363636363"
      ]
     },
     "execution_count": 18,
     "metadata": {},
     "output_type": "execute_result"
    }
   ],
   "source": [
    "ansett['Business.Class'].mean()"
   ]
  },
  {
   "cell_type": "markdown",
   "metadata": {},
   "source": [
    "The formula to compute the mean is \n",
    "$$\\bar{x}=\\frac{\\sum x_i}{n}$$"
   ]
  },
  {
   "cell_type": "code",
   "execution_count": 19,
   "metadata": {},
   "outputs": [
    {
     "data": {
      "text/plain": [
       "2.213136363636363"
      ]
     },
     "execution_count": 19,
     "metadata": {},
     "output_type": "execute_result"
    }
   ],
   "source": [
    "ansett['Business.Class'].sum()/ansett['Business.Class'].count()"
   ]
  },
  {
   "cell_type": "markdown",
   "metadata": {},
   "source": [
    "Explicitely using the formula, we find the same value for the mean.\n",
    "\n",
    "Now let's compute the median:"
   ]
  },
  {
   "cell_type": "code",
   "execution_count": 20,
   "metadata": {},
   "outputs": [
    {
     "data": {
      "text/plain": [
       "First.Class        1.4095\n",
       "Business.Class     1.8740\n",
       "Economy.Class     21.5235\n",
       "dtype: float64"
      ]
     },
     "execution_count": 20,
     "metadata": {},
     "output_type": "execute_result"
    }
   ],
   "source": [
    "ansett.median()"
   ]
  },
  {
   "cell_type": "markdown",
   "metadata": {},
   "source": [
    "We can also compute the median for a single variable"
   ]
  },
  {
   "cell_type": "code",
   "execution_count": 21,
   "metadata": {
    "scrolled": false
   },
   "outputs": [
    {
     "data": {
      "text/plain": [
       "1.8739999999999999"
      ]
     },
     "execution_count": 21,
     "metadata": {},
     "output_type": "execute_result"
    }
   ],
   "source": [
    "ansett['Business.Class'].median()"
   ]
  },
  {
   "cell_type": "markdown",
   "metadata": {},
   "source": [
    "Compare the mean and median of the Busines class (reminder, the number represent the number of passenger per week, in thousands). What does the difference mean?"
   ]
  },
  {
   "cell_type": "markdown",
   "metadata": {},
   "source": [
    "*Write your answer*"
   ]
  },
  {
   "cell_type": "markdown",
   "metadata": {},
   "source": [
    "The spread of the variables can be described by the range, which is the difference between the maximum and the minimum"
   ]
  },
  {
   "cell_type": "code",
   "execution_count": 22,
   "metadata": {},
   "outputs": [
    {
     "data": {
      "text/plain": [
       "First.Class        2.716\n",
       "Business.Class    10.433\n",
       "Economy.Class     32.468\n",
       "dtype: float64"
      ]
     },
     "execution_count": 22,
     "metadata": {},
     "output_type": "execute_result"
    }
   ],
   "source": [
    "ansett.max()"
   ]
  },
  {
   "cell_type": "code",
   "execution_count": 23,
   "metadata": {},
   "outputs": [
    {
     "data": {
      "text/plain": [
       "First.Class       0.0\n",
       "Business.Class    0.0\n",
       "Economy.Class     0.0\n",
       "dtype: float64"
      ]
     },
     "execution_count": 23,
     "metadata": {},
     "output_type": "execute_result"
    }
   ],
   "source": [
    "ansett.min()"
   ]
  },
  {
   "cell_type": "code",
   "execution_count": 24,
   "metadata": {},
   "outputs": [
    {
     "data": {
      "text/plain": [
       "First.Class        2.716\n",
       "Business.Class    10.433\n",
       "Economy.Class     32.468\n",
       "dtype: float64"
      ]
     },
     "execution_count": 24,
     "metadata": {},
     "output_type": "execute_result"
    }
   ],
   "source": [
    "ansett.max()-ansett.min()"
   ]
  },
  {
   "cell_type": "markdown",
   "metadata": {},
   "source": [
    "Compare the difference between maximum and range, how can you explain it?"
   ]
  },
  {
   "cell_type": "markdown",
   "metadata": {},
   "source": [
    "*Write your answer*"
   ]
  },
  {
   "cell_type": "markdown",
   "metadata": {},
   "source": [
    "The standard deviation is a basic measure that gives you the spread of a data, the formula is\n",
    "$$\\sum\\frac{(x_i-\\bar{x})^2}{n}$$"
   ]
  },
  {
   "cell_type": "code",
   "execution_count": 25,
   "metadata": {},
   "outputs": [
    {
     "data": {
      "text/plain": [
       "First.Class       0.639820\n",
       "Business.Class    1.863777\n",
       "Economy.Class     5.194438\n",
       "dtype: float64"
      ]
     },
     "execution_count": 25,
     "metadata": {},
     "output_type": "execute_result"
    }
   ],
   "source": [
    "ansett.std()"
   ]
  },
  {
   "cell_type": "markdown",
   "metadata": {
    "collapsed": true
   },
   "source": [
    "## Plotting\n",
    "\n",
    "Matplotlib is the basic library to plot the data. Descriptive statistics should always be \n",
    "presented alongside plots\n",
    "\n",
    "First let's load the library\n"
   ]
  },
  {
   "cell_type": "code",
   "execution_count": 26,
   "metadata": {},
   "outputs": [],
   "source": [
    "import matplotlib.pyplot as plt"
   ]
  },
  {
   "cell_type": "markdown",
   "metadata": {},
   "source": [
    "To be able to see the plots in the jupyter notebook we need to add this extra line below"
   ]
  },
  {
   "cell_type": "code",
   "execution_count": 27,
   "metadata": {
    "collapsed": true
   },
   "outputs": [],
   "source": [
    "%matplotlib inline"
   ]
  },
  {
   "cell_type": "code",
   "execution_count": 28,
   "metadata": {},
   "outputs": [
    {
     "data": {
      "text/plain": [
       "[<matplotlib.lines.Line2D at 0x193c82129b0>]"
      ]
     },
     "execution_count": 28,
     "metadata": {},
     "output_type": "execute_result"
    },
    {
     "data": {
      "image/png": "[encoded data removed]",
      "text/plain": [
       "<matplotlib.figure.Figure at 0x193c80f4668>"
      ]
     },
     "metadata": {},
     "output_type": "display_data"
    }
   ],
   "source": [
    "plt.plot(ansett[\"Business.Class\"])"
   ]
  },
  {
   "cell_type": "markdown",
   "metadata": {},
   "source": [
    "What does this plot represent?"
   ]
  },
  {
   "cell_type": "markdown",
   "metadata": {
    "collapsed": true
   },
   "source": [
    "*Write your answer*"
   ]
  },
  {
   "cell_type": "code",
   "execution_count": 29,
   "metadata": {},
   "outputs": [
    {
     "data": {
      "text/plain": [
       "[<matplotlib.lines.Line2D at 0x193c83f0828>,\n",
       " <matplotlib.lines.Line2D at 0x193c83f0a20>,\n",
       " <matplotlib.lines.Line2D at 0x193c83f0b70>]"
      ]
     },
     "execution_count": 29,
     "metadata": {},
     "output_type": "execute_result"
    },
    {
     "data": {
      "image/png": "[encoded data removed]",
      "text/plain": [
       "<matplotlib.figure.Figure at 0x193c82a2550>"
      ]
     },
     "metadata": {},
     "output_type": "display_data"
    }
   ],
   "source": [
    "plt.plot(ansett)"
   ]
  },
  {
   "cell_type": "code",
   "execution_count": 30,
   "metadata": {},
   "outputs": [
    {
     "data": {
      "text/plain": [
       "<matplotlib.legend.Legend at 0x193c8223710>"
      ]
     },
     "execution_count": 30,
     "metadata": {},
     "output_type": "execute_result"
    },
    {
     "data": {
      "image/png": "[encoded data removed]",
      "text/plain": [
       "<matplotlib.figure.Figure at 0x193c840c898>"
      ]
     },
     "metadata": {},
     "output_type": "display_data"
    }
   ],
   "source": [
    "plt.plot(ansett[\"First.Class\"],'r',label=\"First\")\n",
    "plt.plot(ansett[\"Business.Class\"],'b',label=\"Business\")\n",
    "plt.plot(ansett[\"Economy.Class\"],'g',label=\"Economy\")\n",
    "plt.legend(loc='upper left')"
   ]
  },
  {
   "cell_type": "markdown",
   "metadata": {},
   "source": [
    "Describe what this represents"
   ]
  },
  {
   "cell_type": "markdown",
   "metadata": {},
   "source": [
    "*write your answer*"
   ]
  },
  {
   "cell_type": "code",
   "execution_count": null,
   "metadata": {
    "collapsed": true
   },
   "outputs": [],
   "source": []
  },
  {
   "cell_type": "code",
   "execution_count": 31,
   "metadata": {
    "scrolled": true
   },
   "outputs": [
    {
     "data": {
      "text/plain": [
       "<matplotlib.axes._subplots.AxesSubplot at 0x193c8136d30>"
      ]
     },
     "execution_count": 31,
     "metadata": {},
     "output_type": "execute_result"
    },
    {
     "data": {
      "image/png": "[encoded data removed]",
      "text/plain": [
       "<matplotlib.figure.Figure at 0x193c81e54e0>"
      ]
     },
     "metadata": {},
     "output_type": "display_data"
    }
   ],
   "source": [
    "ansett.boxplot()"
   ]
  },
  {
   "cell_type": "markdown",
   "metadata": {},
   "source": [
    "Describe what the above boxplot show:"
   ]
  },
  {
   "cell_type": "markdown",
   "metadata": {},
   "source": [
    "*Write your answer here*"
   ]
  },
  {
   "cell_type": "markdown",
   "metadata": {},
   "source": [
    "## Statistical testing\n",
    "\n",
    "In this section we will import a new library to do some statistical test"
   ]
  },
  {
   "cell_type": "code",
   "execution_count": 32,
   "metadata": {},
   "outputs": [],
   "source": [
    "import scipy.stats as st"
   ]
  },
  {
   "cell_type": "markdown",
   "metadata": {},
   "source": [
    "We will also need to clean our dataset, i.e. get rid of all the NaN in the dataset"
   ]
  },
  {
   "cell_type": "code",
   "execution_count": 33,
   "metadata": {
    "collapsed": true
   },
   "outputs": [],
   "source": [
    "ansett2=ansett.dropna()"
   ]
  },
  {
   "cell_type": "code",
   "execution_count": 34,
   "metadata": {},
   "outputs": [
    {
     "data": {
      "text/html": [
       "<div>\n",
       "<style>\n",
       "    .dataframe thead tr:only-child th {\n",
       "        text-align: right;\n",
       "    }\n",
       "\n",
       "    .dataframe thead th {\n",
       "        text-align: left;\n",
       "    }\n",
       "\n",
       "    .dataframe tbody tr th {\n",
       "        vertical-align: top;\n",
       "    }\n",
       "</style>\n",
       "<table border=\"1\" class=\"dataframe\">\n",
       "  <thead>\n",
       "    <tr style=\"text-align: right;\">\n",
       "      <th></th>\n",
       "      <th>First.Class</th>\n",
       "      <th>Business.Class</th>\n",
       "      <th>Economy.Class</th>\n",
       "    </tr>\n",
       "  </thead>\n",
       "  <tbody>\n",
       "    <tr>\n",
       "      <th>107</th>\n",
       "      <td>1.636</td>\n",
       "      <td>1.524</td>\n",
       "      <td>19.260</td>\n",
       "    </tr>\n",
       "    <tr>\n",
       "      <th>108</th>\n",
       "      <td>1.741</td>\n",
       "      <td>2.212</td>\n",
       "      <td>18.781</td>\n",
       "    </tr>\n",
       "    <tr>\n",
       "      <th>109</th>\n",
       "      <td>1.597</td>\n",
       "      <td>1.777</td>\n",
       "      <td>17.445</td>\n",
       "    </tr>\n",
       "    <tr>\n",
       "      <th>110</th>\n",
       "      <td>1.943</td>\n",
       "      <td>2.552</td>\n",
       "      <td>19.628</td>\n",
       "    </tr>\n",
       "    <tr>\n",
       "      <th>111</th>\n",
       "      <td>1.660</td>\n",
       "      <td>1.889</td>\n",
       "      <td>17.692</td>\n",
       "    </tr>\n",
       "    <tr>\n",
       "      <th>112</th>\n",
       "      <td>0.616</td>\n",
       "      <td>0.851</td>\n",
       "      <td>7.046</td>\n",
       "    </tr>\n",
       "    <tr>\n",
       "      <th>113</th>\n",
       "      <td>0.000</td>\n",
       "      <td>0.000</td>\n",
       "      <td>0.000</td>\n",
       "    </tr>\n",
       "    <tr>\n",
       "      <th>114</th>\n",
       "      <td>0.000</td>\n",
       "      <td>0.000</td>\n",
       "      <td>0.000</td>\n",
       "    </tr>\n",
       "    <tr>\n",
       "      <th>115</th>\n",
       "      <td>0.000</td>\n",
       "      <td>0.000</td>\n",
       "      <td>0.000</td>\n",
       "    </tr>\n",
       "    <tr>\n",
       "      <th>116</th>\n",
       "      <td>0.000</td>\n",
       "      <td>0.000</td>\n",
       "      <td>0.000</td>\n",
       "    </tr>\n",
       "    <tr>\n",
       "      <th>117</th>\n",
       "      <td>0.000</td>\n",
       "      <td>0.000</td>\n",
       "      <td>0.000</td>\n",
       "    </tr>\n",
       "    <tr>\n",
       "      <th>118</th>\n",
       "      <td>0.000</td>\n",
       "      <td>0.000</td>\n",
       "      <td>0.000</td>\n",
       "    </tr>\n",
       "    <tr>\n",
       "      <th>119</th>\n",
       "      <td>0.000</td>\n",
       "      <td>0.000</td>\n",
       "      <td>0.000</td>\n",
       "    </tr>\n",
       "    <tr>\n",
       "      <th>120</th>\n",
       "      <td>0.053</td>\n",
       "      <td>0.618</td>\n",
       "      <td>11.569</td>\n",
       "    </tr>\n",
       "    <tr>\n",
       "      <th>121</th>\n",
       "      <td>0.040</td>\n",
       "      <td>0.565</td>\n",
       "      <td>11.973</td>\n",
       "    </tr>\n",
       "    <tr>\n",
       "      <th>122</th>\n",
       "      <td>0.354</td>\n",
       "      <td>0.414</td>\n",
       "      <td>11.123</td>\n",
       "    </tr>\n",
       "    <tr>\n",
       "      <th>123</th>\n",
       "      <td>0.505</td>\n",
       "      <td>0.543</td>\n",
       "      <td>11.479</td>\n",
       "    </tr>\n",
       "    <tr>\n",
       "      <th>124</th>\n",
       "      <td>0.711</td>\n",
       "      <td>0.712</td>\n",
       "      <td>16.969</td>\n",
       "    </tr>\n",
       "    <tr>\n",
       "      <th>125</th>\n",
       "      <td>0.723</td>\n",
       "      <td>0.652</td>\n",
       "      <td>15.997</td>\n",
       "    </tr>\n",
       "    <tr>\n",
       "      <th>126</th>\n",
       "      <td>0.796</td>\n",
       "      <td>0.709</td>\n",
       "      <td>16.555</td>\n",
       "    </tr>\n",
       "    <tr>\n",
       "      <th>127</th>\n",
       "      <td>0.856</td>\n",
       "      <td>0.793</td>\n",
       "      <td>17.959</td>\n",
       "    </tr>\n",
       "    <tr>\n",
       "      <th>128</th>\n",
       "      <td>0.845</td>\n",
       "      <td>0.838</td>\n",
       "      <td>18.868</td>\n",
       "    </tr>\n",
       "    <tr>\n",
       "      <th>129</th>\n",
       "      <td>0.807</td>\n",
       "      <td>0.763</td>\n",
       "      <td>15.400</td>\n",
       "    </tr>\n",
       "    <tr>\n",
       "      <th>130</th>\n",
       "      <td>0.276</td>\n",
       "      <td>0.266</td>\n",
       "      <td>10.544</td>\n",
       "    </tr>\n",
       "    <tr>\n",
       "      <th>131</th>\n",
       "      <td>0.339</td>\n",
       "      <td>0.362</td>\n",
       "      <td>12.755</td>\n",
       "    </tr>\n",
       "    <tr>\n",
       "      <th>132</th>\n",
       "      <td>0.581</td>\n",
       "      <td>0.665</td>\n",
       "      <td>19.020</td>\n",
       "    </tr>\n",
       "    <tr>\n",
       "      <th>133</th>\n",
       "      <td>0.894</td>\n",
       "      <td>0.957</td>\n",
       "      <td>20.077</td>\n",
       "    </tr>\n",
       "    <tr>\n",
       "      <th>134</th>\n",
       "      <td>0.936</td>\n",
       "      <td>1.145</td>\n",
       "      <td>22.124</td>\n",
       "    </tr>\n",
       "    <tr>\n",
       "      <th>135</th>\n",
       "      <td>1.111</td>\n",
       "      <td>1.312</td>\n",
       "      <td>19.920</td>\n",
       "    </tr>\n",
       "    <tr>\n",
       "      <th>136</th>\n",
       "      <td>1.446</td>\n",
       "      <td>1.689</td>\n",
       "      <td>17.215</td>\n",
       "    </tr>\n",
       "    <tr>\n",
       "      <th>...</th>\n",
       "      <td>...</td>\n",
       "      <td>...</td>\n",
       "      <td>...</td>\n",
       "    </tr>\n",
       "    <tr>\n",
       "      <th>253</th>\n",
       "      <td>1.808</td>\n",
       "      <td>8.828</td>\n",
       "      <td>17.018</td>\n",
       "    </tr>\n",
       "    <tr>\n",
       "      <th>254</th>\n",
       "      <td>1.839</td>\n",
       "      <td>8.078</td>\n",
       "      <td>18.111</td>\n",
       "    </tr>\n",
       "    <tr>\n",
       "      <th>255</th>\n",
       "      <td>1.714</td>\n",
       "      <td>7.527</td>\n",
       "      <td>18.410</td>\n",
       "    </tr>\n",
       "    <tr>\n",
       "      <th>256</th>\n",
       "      <td>1.730</td>\n",
       "      <td>7.486</td>\n",
       "      <td>20.541</td>\n",
       "    </tr>\n",
       "    <tr>\n",
       "      <th>257</th>\n",
       "      <td>1.725</td>\n",
       "      <td>6.711</td>\n",
       "      <td>21.408</td>\n",
       "    </tr>\n",
       "    <tr>\n",
       "      <th>258</th>\n",
       "      <td>1.456</td>\n",
       "      <td>5.930</td>\n",
       "      <td>21.545</td>\n",
       "    </tr>\n",
       "    <tr>\n",
       "      <th>259</th>\n",
       "      <td>1.447</td>\n",
       "      <td>5.462</td>\n",
       "      <td>21.732</td>\n",
       "    </tr>\n",
       "    <tr>\n",
       "      <th>260</th>\n",
       "      <td>1.357</td>\n",
       "      <td>3.710</td>\n",
       "      <td>26.173</td>\n",
       "    </tr>\n",
       "    <tr>\n",
       "      <th>261</th>\n",
       "      <td>1.280</td>\n",
       "      <td>2.894</td>\n",
       "      <td>27.432</td>\n",
       "    </tr>\n",
       "    <tr>\n",
       "      <th>262</th>\n",
       "      <td>1.363</td>\n",
       "      <td>3.008</td>\n",
       "      <td>28.362</td>\n",
       "    </tr>\n",
       "    <tr>\n",
       "      <th>263</th>\n",
       "      <td>1.228</td>\n",
       "      <td>2.829</td>\n",
       "      <td>29.827</td>\n",
       "    </tr>\n",
       "    <tr>\n",
       "      <th>264</th>\n",
       "      <td>1.411</td>\n",
       "      <td>3.252</td>\n",
       "      <td>29.870</td>\n",
       "    </tr>\n",
       "    <tr>\n",
       "      <th>265</th>\n",
       "      <td>1.130</td>\n",
       "      <td>3.021</td>\n",
       "      <td>26.534</td>\n",
       "    </tr>\n",
       "    <tr>\n",
       "      <th>266</th>\n",
       "      <td>1.153</td>\n",
       "      <td>2.667</td>\n",
       "      <td>26.434</td>\n",
       "    </tr>\n",
       "    <tr>\n",
       "      <th>267</th>\n",
       "      <td>1.257</td>\n",
       "      <td>2.740</td>\n",
       "      <td>26.137</td>\n",
       "    </tr>\n",
       "    <tr>\n",
       "      <th>268</th>\n",
       "      <td>1.259</td>\n",
       "      <td>2.807</td>\n",
       "      <td>27.365</td>\n",
       "    </tr>\n",
       "    <tr>\n",
       "      <th>269</th>\n",
       "      <td>1.153</td>\n",
       "      <td>2.961</td>\n",
       "      <td>27.910</td>\n",
       "    </tr>\n",
       "    <tr>\n",
       "      <th>270</th>\n",
       "      <td>1.202</td>\n",
       "      <td>2.570</td>\n",
       "      <td>26.311</td>\n",
       "    </tr>\n",
       "    <tr>\n",
       "      <th>271</th>\n",
       "      <td>1.185</td>\n",
       "      <td>2.671</td>\n",
       "      <td>27.538</td>\n",
       "    </tr>\n",
       "    <tr>\n",
       "      <th>272</th>\n",
       "      <td>1.247</td>\n",
       "      <td>2.809</td>\n",
       "      <td>29.445</td>\n",
       "    </tr>\n",
       "    <tr>\n",
       "      <th>273</th>\n",
       "      <td>1.434</td>\n",
       "      <td>2.712</td>\n",
       "      <td>28.326</td>\n",
       "    </tr>\n",
       "    <tr>\n",
       "      <th>274</th>\n",
       "      <td>1.450</td>\n",
       "      <td>2.606</td>\n",
       "      <td>30.203</td>\n",
       "    </tr>\n",
       "    <tr>\n",
       "      <th>275</th>\n",
       "      <td>1.227</td>\n",
       "      <td>2.500</td>\n",
       "      <td>27.838</td>\n",
       "    </tr>\n",
       "    <tr>\n",
       "      <th>276</th>\n",
       "      <td>1.245</td>\n",
       "      <td>2.898</td>\n",
       "      <td>27.760</td>\n",
       "    </tr>\n",
       "    <tr>\n",
       "      <th>277</th>\n",
       "      <td>1.417</td>\n",
       "      <td>3.152</td>\n",
       "      <td>27.322</td>\n",
       "    </tr>\n",
       "    <tr>\n",
       "      <th>278</th>\n",
       "      <td>1.458</td>\n",
       "      <td>3.053</td>\n",
       "      <td>28.837</td>\n",
       "    </tr>\n",
       "    <tr>\n",
       "      <th>279</th>\n",
       "      <td>1.398</td>\n",
       "      <td>2.745</td>\n",
       "      <td>26.548</td>\n",
       "    </tr>\n",
       "    <tr>\n",
       "      <th>280</th>\n",
       "      <td>1.423</td>\n",
       "      <td>3.156</td>\n",
       "      <td>27.279</td>\n",
       "    </tr>\n",
       "    <tr>\n",
       "      <th>281</th>\n",
       "      <td>1.358</td>\n",
       "      <td>3.069</td>\n",
       "      <td>27.306</td>\n",
       "    </tr>\n",
       "    <tr>\n",
       "      <th>282</th>\n",
       "      <td>1.488</td>\n",
       "      <td>3.379</td>\n",
       "      <td>28.299</td>\n",
       "    </tr>\n",
       "  </tbody>\n",
       "</table>\n",
       "<p>176 rows × 3 columns</p>\n",
       "</div>"
      ],
      "text/plain": [
       "     First.Class  Business.Class  Economy.Class\n",
       "107        1.636           1.524         19.260\n",
       "108        1.741           2.212         18.781\n",
       "109        1.597           1.777         17.445\n",
       "110        1.943           2.552         19.628\n",
       "111        1.660           1.889         17.692\n",
       "112        0.616           0.851          7.046\n",
       "113        0.000           0.000          0.000\n",
       "114        0.000           0.000          0.000\n",
       "115        0.000           0.000          0.000\n",
       "116        0.000           0.000          0.000\n",
       "117        0.000           0.000          0.000\n",
       "118        0.000           0.000          0.000\n",
       "119        0.000           0.000          0.000\n",
       "120        0.053           0.618         11.569\n",
       "121        0.040           0.565         11.973\n",
       "122        0.354           0.414         11.123\n",
       "123        0.505           0.543         11.479\n",
       "124        0.711           0.712         16.969\n",
       "125        0.723           0.652         15.997\n",
       "126        0.796           0.709         16.555\n",
       "127        0.856           0.793         17.959\n",
       "128        0.845           0.838         18.868\n",
       "129        0.807           0.763         15.400\n",
       "130        0.276           0.266         10.544\n",
       "131        0.339           0.362         12.755\n",
       "132        0.581           0.665         19.020\n",
       "133        0.894           0.957         20.077\n",
       "134        0.936           1.145         22.124\n",
       "135        1.111           1.312         19.920\n",
       "136        1.446           1.689         17.215\n",
       "..           ...             ...            ...\n",
       "253        1.808           8.828         17.018\n",
       "254        1.839           8.078         18.111\n",
       "255        1.714           7.527         18.410\n",
       "256        1.730           7.486         20.541\n",
       "257        1.725           6.711         21.408\n",
       "258        1.456           5.930         21.545\n",
       "259        1.447           5.462         21.732\n",
       "260        1.357           3.710         26.173\n",
       "261        1.280           2.894         27.432\n",
       "262        1.363           3.008         28.362\n",
       "263        1.228           2.829         29.827\n",
       "264        1.411           3.252         29.870\n",
       "265        1.130           3.021         26.534\n",
       "266        1.153           2.667         26.434\n",
       "267        1.257           2.740         26.137\n",
       "268        1.259           2.807         27.365\n",
       "269        1.153           2.961         27.910\n",
       "270        1.202           2.570         26.311\n",
       "271        1.185           2.671         27.538\n",
       "272        1.247           2.809         29.445\n",
       "273        1.434           2.712         28.326\n",
       "274        1.450           2.606         30.203\n",
       "275        1.227           2.500         27.838\n",
       "276        1.245           2.898         27.760\n",
       "277        1.417           3.152         27.322\n",
       "278        1.458           3.053         28.837\n",
       "279        1.398           2.745         26.548\n",
       "280        1.423           3.156         27.279\n",
       "281        1.358           3.069         27.306\n",
       "282        1.488           3.379         28.299\n",
       "\n",
       "[176 rows x 3 columns]"
      ]
     },
     "execution_count": 34,
     "metadata": {},
     "output_type": "execute_result"
    }
   ],
   "source": [
    "ansett2"
   ]
  },
  {
   "cell_type": "markdown",
   "metadata": {},
   "source": [
    "## Statistical testing\n",
    "\n",
    "\n",
    "### pairwise comparison\n",
    "\n",
    "A question of investigation could be, are there the same amount of passenger in each class. This is called a pairwise comparison.\n",
    "\n",
    "First let's compare the number of first class and business class passenger. We will use a t-test.\n",
    "\n"
   ]
  },
  {
   "cell_type": "code",
   "execution_count": 35,
   "metadata": {},
   "outputs": [
    {
     "data": {
      "text/plain": [
       "Ttest_indResult(statistic=-7.660298949077139, pvalue=1.83548815787798e-13)"
      ]
     },
     "execution_count": 35,
     "metadata": {},
     "output_type": "execute_result"
    }
   ],
   "source": [
    "st.ttest_ind(ansett2['First.Class'],ansett2['Business.Class'])"
   ]
  },
  {
   "cell_type": "markdown",
   "metadata": {},
   "source": [
    "In the output, we are interested in the p-value, here p=0.0000000000001835\n",
    "\n",
    "Doing the t-test we had the following statistical hypothesis:\n",
    "\n",
    "H0: There is no difference in the number of passenger in first and business class\n",
    "H1: There is a difference in the number of passenger in first and business class\n",
    "\n",
    "To conclude, we must compare p with a threshold value \\alpha=0.05\n",
    "\n",
    "If $p >0.05$ we can  not reject H0, and we conclude H0\n",
    "If $p <0.05$ we reject H0 and we conclude H1\n",
    "\n",
    "In this case $p<0.05$ so reject H0, so there is a difference between the number of passenger in first and business class"
   ]
  },
  {
   "cell_type": "markdown",
   "metadata": {},
   "source": [
    "Exercise: Is there a difference in the number of passenger in first and economy class?"
   ]
  },
  {
   "cell_type": "code",
   "execution_count": 36,
   "metadata": {
    "collapsed": true
   },
   "outputs": [],
   "source": [
    "#type your code here"
   ]
  },
  {
   "cell_type": "markdown",
   "metadata": {},
   "source": [
    "*write your conclusion here*"
   ]
  },
  {
   "cell_type": "markdown",
   "metadata": {},
   "source": [
    "Remember what the data look like? "
   ]
  },
  {
   "cell_type": "code",
   "execution_count": 37,
   "metadata": {
    "scrolled": true
   },
   "outputs": [
    {
     "data": {
      "text/plain": [
       "[<matplotlib.lines.Line2D at 0x193cc13f6a0>,\n",
       " <matplotlib.lines.Line2D at 0x193cc13f7f0>,\n",
       " <matplotlib.lines.Line2D at 0x193cc13f940>]"
      ]
     },
     "execution_count": 37,
     "metadata": {},
     "output_type": "execute_result"
    },
    {
     "data": {
      "image/png": "[encoded data removed]",
      "text/plain": [
       "<matplotlib.figure.Figure at 0x193cc10bdd8>"
      ]
     },
     "metadata": {},
     "output_type": "display_data"
    }
   ],
   "source": [
    "plt.plot(ansett2)"
   ]
  },
  {
   "cell_type": "markdown",
   "metadata": {},
   "source": [
    "Are these results expected? \n",
    "\n",
    "It seems that something strange happened around week 250, there is a huge increase in the number of business class, and a sharp decrease in teh number of economy class passenger. So let's see if there is a different between the number of passenger in first and business class, between week 110 and week 240.\n",
    "\n",
    "First let's extract the data of these weeks:"
   ]
  },
  {
   "cell_type": "code",
   "execution_count": 38,
   "metadata": {},
   "outputs": [],
   "source": [
    "ansett_110_240=ansett.iloc[109:239,]"
   ]
  },
  {
   "cell_type": "markdown",
   "metadata": {},
   "source": [
    "Why are the indices of the arrays 109 and 239?"
   ]
  },
  {
   "cell_type": "code",
   "execution_count": 39,
   "metadata": {},
   "outputs": [
    {
     "data": {
      "text/plain": [
       "<matplotlib.axes._subplots.AxesSubplot at 0x193cc106470>"
      ]
     },
     "execution_count": 39,
     "metadata": {},
     "output_type": "execute_result"
    },
    {
     "data": {
      "image/png": "[encoded data removed]",
      "text/plain": [
       "<matplotlib.figure.Figure at 0x193cc1251d0>"
      ]
     },
     "metadata": {},
     "output_type": "display_data"
    }
   ],
   "source": [
    "ansett_110_240.boxplot()"
   ]
  },
  {
   "cell_type": "markdown",
   "metadata": {},
   "source": [
    "State the hypotheses and test whether there is a difference in the number of passenger in first and business class in these weeks."
   ]
  },
  {
   "cell_type": "code",
   "execution_count": 40,
   "metadata": {},
   "outputs": [],
   "source": [
    "# type your code here"
   ]
  },
  {
   "cell_type": "markdown",
   "metadata": {},
   "source": [
    "*Write your conclusion*"
   ]
  },
  {
   "cell_type": "markdown",
   "metadata": {},
   "source": [
    "### Normal distribution\n",
    "\n",
    "We are usually interested in having **normal** (gaussian) distribution because they allow us to do specific statistics tests. If a data is normally distributed its histogram follows a bell curve. \n",
    "\n",
    "The previous test for example assumes that the number of passenger follows a normal distribution. To test whether that is true you can use the shapiro test:\n",
    "\n",
    "H0: The distribution is normal\n",
    "\n",
    "H1: The distribution is not normal"
   ]
  },
  {
   "cell_type": "code",
   "execution_count": 41,
   "metadata": {},
   "outputs": [
    {
     "data": {
      "text/plain": [
       "(0.9755382537841797, 0.003408363088965416)"
      ]
     },
     "execution_count": 41,
     "metadata": {},
     "output_type": "execute_result"
    }
   ],
   "source": [
    "st.shapiro(ansett2[\"First.Class\"])"
   ]
  },
  {
   "cell_type": "markdown",
   "metadata": {},
   "source": [
    "Here $p=0.0034$, so $p<0.05$ , so we reject H0. The number of passenger in First class is not normally distributed."
   ]
  },
  {
   "cell_type": "markdown",
   "metadata": {},
   "source": [
    "Test whether the number of passenger in Business class is normally distributed"
   ]
  },
  {
   "cell_type": "code",
   "execution_count": 42,
   "metadata": {
    "collapsed": true
   },
   "outputs": [],
   "source": [
    "# type your code here for Business class"
   ]
  },
  {
   "cell_type": "markdown",
   "metadata": {},
   "source": [
    "*write your conclusion here for Business class*"
   ]
  },
  {
   "cell_type": "code",
   "execution_count": 43,
   "metadata": {
    "collapsed": true
   },
   "outputs": [],
   "source": [
    "# type your code here for Economy class"
   ]
  },
  {
   "cell_type": "markdown",
   "metadata": {},
   "source": [
    "*write your conclusion here for business class*"
   ]
  },
  {
   "cell_type": "markdown",
   "metadata": {},
   "source": [
    "### Simulations\n",
    "\n",
    "To see what a normal distribution looks like we are going to simulate a random normal variable."
   ]
  },
  {
   "cell_type": "code",
   "execution_count": 44,
   "metadata": {},
   "outputs": [
    {
     "data": {
      "text/plain": [
       "array([ 8.49063038e-01,  1.33936068e+00,  1.94052505e+00, -3.36466941e-01,\n",
       "        7.70910641e-01,  1.91519329e-02, -5.15443080e-02,  6.62627947e-01,\n",
       "        1.95379312e-01,  2.01888962e+00,  3.34937087e+00,  1.20311980e+00,\n",
       "        2.07449080e+00,  2.22204669e+00, -7.45169616e-01,  1.43806786e+00,\n",
       "        1.10137098e+00, -1.67642989e+00, -4.09677659e-01,  1.41836125e+00,\n",
       "        1.63293017e+00, -1.55448155e-01,  3.36397059e+00, -1.51152731e-01,\n",
       "        1.89771258e+00,  9.87202846e-01,  6.06295265e-01,  2.36394896e+00,\n",
       "        1.19635714e+00,  2.56113121e+00,  2.03345355e-01, -5.84085196e-02,\n",
       "        1.25599248e+00,  4.12184792e-01,  2.61282783e+00,  1.47173528e+00,\n",
       "        2.64162096e+00, -1.07799865e-01, -5.42870905e-01,  1.24475726e+00,\n",
       "        2.19813654e-01,  1.88524600e+00,  1.14920892e+00,  1.20371070e+00,\n",
       "       -1.07770658e-01,  1.24904857e+00, -4.84216248e-01,  8.72590773e-01,\n",
       "        2.13167610e+00,  1.78358218e+00, -4.30978551e-01,  7.22317221e-01,\n",
       "        2.50668774e+00, -1.20659600e-01,  1.15128645e+00, -2.72286057e-01,\n",
       "        2.17131919e+00,  7.73956234e-01, -1.67705764e+00,  6.48335114e-01,\n",
       "        3.73109021e+00,  9.58595694e-01,  7.08060069e-01,  2.68293533e+00,\n",
       "       -1.58291338e+00,  2.39090556e+00,  2.09127169e+00,  7.43960170e-01,\n",
       "       -3.38017115e-01, -1.01355551e+00,  6.97910046e-01,  1.09984142e+00,\n",
       "        2.13490604e+00,  1.12132102e+00,  1.78767631e+00,  7.00251947e-01,\n",
       "        1.00035363e-02,  1.14040285e+00,  2.00723210e+00,  3.24346848e+00,\n",
       "        1.75628603e+00,  9.41388376e-01,  1.55190373e+00,  1.20130604e+00,\n",
       "        1.00099658e+00,  8.15478603e-01,  5.00694636e-01,  9.90235595e-01,\n",
       "        1.60745690e+00,  1.66530542e+00,  1.13194635e+00,  1.72446815e-02,\n",
       "        2.47845861e+00,  1.15007904e+00, -1.39963264e-01, -1.30323284e+00,\n",
       "        1.63928457e-01, -8.00136189e-01,  9.03715311e-01, -6.40622472e-01,\n",
       "        8.93203853e-01,  6.33292856e-01,  4.69710932e-01,  6.97669534e-01,\n",
       "        1.81043922e+00,  1.86095343e+00,  1.70083283e+00,  1.34384735e+00,\n",
       "        9.74085719e-01,  7.65322712e-01,  1.05617821e+00,  1.47369127e+00,\n",
       "       -5.30731036e-01,  1.40494425e+00, -5.75332802e-01,  7.56593408e-01,\n",
       "       -5.36534868e-02,  1.78361430e+00, -1.89672993e-01,  1.89484394e+00,\n",
       "        1.99634915e+00,  2.01087208e+00,  5.20563710e-01,  1.41390910e+00,\n",
       "        1.59577209e+00,  1.47114108e+00,  8.11180103e-01,  1.02918055e+00,\n",
       "        9.79624154e-01,  3.95877442e-01,  7.49760643e-01,  4.36730551e-01,\n",
       "        2.64272291e-02,  2.09310972e+00, -8.01087618e-01, -9.40215250e-01,\n",
       "        1.88113877e+00,  1.53512467e+00,  7.40062506e-01,  1.57527839e+00,\n",
       "        2.40427451e+00,  1.25932131e+00,  1.12491011e+00,  2.11549466e-01,\n",
       "        6.32775199e-01, -4.26189030e-01,  2.71907198e+00,  1.29986679e-03,\n",
       "        1.76530769e-01,  2.44234857e+00, -2.08342784e-01, -7.93451006e-01,\n",
       "        3.46099279e-01,  1.72900710e+00,  2.13188190e+00,  3.48935602e+00,\n",
       "        2.02639235e+00,  7.65749655e-01,  1.88049507e+00,  1.55253367e+00,\n",
       "        1.97493149e-01,  7.37148357e-01,  9.75531168e-01,  7.64447238e-01,\n",
       "        5.14262587e-01,  1.79681537e+00,  6.54142349e-01, -7.43851432e-01,\n",
       "        5.18272309e-01,  2.38367369e+00,  2.25039939e+00,  2.73036642e-01,\n",
       "        8.94194935e-01,  1.31186337e+00, -1.09229073e+00,  1.31665917e+00,\n",
       "        2.34574114e+00, -4.03005894e-02, -9.04216254e-01,  1.23318859e+00,\n",
       "        3.71302447e-02,  2.28635239e+00,  2.81507006e+00,  1.43498063e-02,\n",
       "        1.42550551e+00,  5.51313175e-01,  1.18560552e+00, -6.20701149e-01,\n",
       "        3.12353446e+00, -1.01848060e+00,  1.66180852e+00,  4.67357625e-01,\n",
       "        1.01874934e+00,  2.09146470e+00,  1.24774924e+00,  7.95285024e-01,\n",
       "       -1.10562786e+00,  1.35226508e+00,  2.29448520e+00,  1.72444190e+00,\n",
       "       -1.42004726e-01,  1.97246072e+00,  1.05081542e+00,  6.06274792e-01,\n",
       "        2.72397969e+00,  7.49501298e-01,  1.20071822e+00,  1.60404235e+00,\n",
       "        9.66046559e-03,  7.61470535e-01,  2.13686063e+00, -7.36952744e-01,\n",
       "        2.20920648e+00,  2.65390965e-01,  1.87053958e+00,  7.82591881e-01,\n",
       "        2.54488072e+00, -2.43673643e-01, -6.37887937e-01,  3.82718543e-01,\n",
       "        2.24446840e+00,  9.69029306e-01,  4.57543847e-02,  1.75607909e+00,\n",
       "        2.23482716e+00,  7.97377837e-01,  1.40902183e+00,  8.27008648e-01,\n",
       "        3.83612209e-01,  2.71443347e-01,  1.13778624e+00, -7.46458070e-02,\n",
       "        8.93633004e-01,  1.68301707e+00, -7.88952422e-01,  1.56318816e+00,\n",
       "        3.21233658e+00,  1.26176073e+00, -5.65335262e-02,  5.20788365e-01,\n",
       "        2.27781683e+00, -2.80631998e+00,  7.88626575e-01,  2.70315791e+00,\n",
       "        1.93741976e+00,  1.90569628e-01,  5.81551704e-02,  1.60153751e+00,\n",
       "        7.27313502e-01,  7.28350196e-01,  9.41987259e-01,  7.19016519e-01,\n",
       "        3.93054758e-01,  8.38293205e-01, -1.09459912e+00,  1.26409509e-01,\n",
       "        1.69096376e+00,  2.12925978e+00,  5.27862349e-01,  1.86229538e+00,\n",
       "       -7.11337211e-01,  1.80079081e+00,  1.79259980e+00,  2.52364966e-01,\n",
       "        3.66444919e-01,  1.58329268e+00, -1.09399411e+00,  3.51278843e-01,\n",
       "        1.51853472e+00,  1.46950710e+00, -2.40869713e-01,  1.44552534e-01,\n",
       "        1.00874083e+00, -2.18543296e-01,  2.44712057e+00,  1.22803793e+00,\n",
       "        6.68068510e-01, -2.78325753e-01,  1.89474055e+00,  3.89806445e-01,\n",
       "        1.43146446e+00, -2.57585437e-01, -7.93187006e-01,  1.61293497e+00,\n",
       "        1.59177141e+00, -1.92389503e+00, -1.82394807e-01,  1.09795006e+00,\n",
       "        8.05037106e-01, -2.10699715e-01,  2.25506191e-01,  1.93354823e+00,\n",
       "        7.82871300e-01,  8.05370506e-01, -6.52100334e-02,  7.41603268e-01,\n",
       "        9.88410798e-01,  3.04061499e+00, -3.82214817e-01,  7.49253010e-01,\n",
       "       -1.32307335e-01, -2.38372038e-01, -4.56775034e-01,  9.35408552e-01,\n",
       "        7.69864842e-01,  1.87633783e+00,  1.22489693e+00,  2.29674064e+00,\n",
       "        6.88912741e-01,  2.25223997e+00,  2.79862941e+00,  1.07356919e-01,\n",
       "        1.94978174e+00,  2.67303496e+00,  2.15879149e+00, -5.90031934e-01,\n",
       "        8.89416730e-01,  2.33508875e+00,  1.74893711e+00,  3.28230121e+00,\n",
       "       -1.20068604e-01,  1.14861373e+00,  1.07960178e+00,  1.55004448e+00,\n",
       "        1.17315512e+00, -1.34614418e-01,  7.52894358e-01, -4.28112391e-01,\n",
       "        1.24188816e+00,  1.84222834e+00, -4.06990426e-01,  2.45139080e+00,\n",
       "        1.04777263e+00,  7.56856816e-01,  1.14720564e+00, -1.36632719e-01,\n",
       "        1.83108909e+00,  3.17728420e+00,  4.27135792e-01,  7.97421172e-01,\n",
       "        8.58127579e-01,  8.10096506e-01,  1.05739676e+00,  4.64041185e+00,\n",
       "        8.66262082e-01,  1.29883900e-01, -5.05514098e-01,  2.75483771e-01,\n",
       "        1.83514671e+00,  1.22693914e-01,  3.30779432e-01,  1.20111128e+00,\n",
       "        3.91144399e-01,  2.85480011e-01, -5.62494586e-01,  1.75228452e+00,\n",
       "        9.87985224e-01,  5.20471948e-01,  1.44335316e+00,  4.43986114e-01,\n",
       "        1.07231127e+00,  2.05761741e+00,  2.08616587e-01,  7.23383592e-01,\n",
       "        8.61117327e-01,  1.07733071e+00,  9.71110429e-01,  1.73394145e+00,\n",
       "        1.86568446e+00, -1.28345867e+00,  1.15136816e+00,  2.86689901e+00,\n",
       "        1.36130752e-01,  3.84388086e+00,  1.14518105e+00,  2.17176371e-01,\n",
       "       -6.57886888e-01,  6.04723240e-01, -4.10155506e-01,  1.82453329e+00,\n",
       "        1.59523139e+00,  1.66089519e+00,  3.51163598e+00, -3.79221663e-01,\n",
       "        5.30661736e-02,  1.59992871e+00,  6.84789731e-01,  2.34427426e+00,\n",
       "        3.14562922e-01,  2.16115328e+00,  9.72017617e-01,  2.48286741e+00,\n",
       "        9.67848089e-01, -1.14657411e+00,  9.24376702e-02,  7.84024269e-01,\n",
       "        1.48687335e+00,  1.18333553e+00,  8.49115464e-01,  1.04095792e+00,\n",
       "        1.97555046e+00,  1.58567890e+00, -9.94429614e-01,  2.76635847e+00,\n",
       "        4.96748760e-01,  1.78331421e+00,  1.09273258e+00,  2.55019717e+00,\n",
       "        1.31593046e+00,  1.29709575e+00,  2.06041702e+00, -8.56871036e-01,\n",
       "        6.08900005e-01,  1.28144874e+00,  1.37795058e+00,  1.10229126e-01,\n",
       "        9.84340144e-01,  2.66566930e+00,  3.09519286e-02,  9.76581138e-01,\n",
       "        1.18877465e+00, -8.10755369e-01,  2.71248960e+00,  5.48961832e-01,\n",
       "        8.76604360e-01,  2.72105258e+00,  3.49243975e-01, -3.32591742e-01,\n",
       "        1.25699525e+00,  9.20938133e-01,  6.37970672e-01,  2.17608416e+00,\n",
       "       -2.38043845e-02, -1.91091447e-01,  2.18866455e+00,  2.40497022e+00,\n",
       "        1.36802794e+00,  1.47201621e+00,  7.50722068e-01,  6.24758274e-01,\n",
       "       -2.61422092e-01,  1.07922710e-01,  2.22794249e+00,  1.25379043e+00,\n",
       "        1.40255488e+00,  9.38441043e-01,  9.91891797e-01,  2.24501845e+00,\n",
       "        1.68088033e+00,  1.18983370e+00,  3.64641102e+00, -1.47665814e-01,\n",
       "        1.52166655e+00,  2.75591611e+00,  3.80236297e-01,  3.21830146e-01,\n",
       "        1.41521767e+00, -6.60772998e-02,  1.64746116e+00,  1.08544373e+00,\n",
       "        2.81922880e+00,  9.94108716e-01,  2.08477937e+00, -1.01318728e+00,\n",
       "        1.40176940e+00, -4.92700695e-01,  9.11800347e-01,  1.34110518e+00,\n",
       "        9.25607681e-01,  1.44490980e+00,  8.76752219e-01,  1.24289872e+00,\n",
       "        9.12349676e-01, -5.82352196e-01,  2.77619718e+00,  1.60848901e+00,\n",
       "        4.37022682e-01, -1.05531464e+00,  8.96697813e-01,  1.45998275e+00,\n",
       "        9.12325678e-01,  1.59781109e+00,  6.81170857e-01,  1.96516738e+00,\n",
       "        5.34182929e-01,  2.00978596e+00,  1.26876325e+00,  4.42420905e-01,\n",
       "        3.50718760e-01,  7.79647060e-01,  1.37104444e+00,  7.67119910e-01,\n",
       "        2.39577975e+00,  2.91707980e-01, -4.81043141e-02,  1.13962108e+00,\n",
       "       -4.55353281e-01,  1.76681286e+00,  1.09713698e+00,  2.74282045e+00,\n",
       "       -1.76342453e-01,  1.66684933e+00,  6.22649700e-01,  1.34797581e+00,\n",
       "       -1.52025194e+00,  1.85127478e+00,  1.08602213e+00,  1.54552539e+00,\n",
       "        7.19210569e-01,  4.72984410e-01,  2.45793104e+00,  1.64611191e+00,\n",
       "        7.14596901e-01,  1.22089556e+00, -1.24668842e-02,  1.92314439e+00,\n",
       "        1.52628905e+00,  1.08216754e+00, -1.01914949e+00,  5.36986992e-01,\n",
       "        2.67689051e-01,  9.36024262e-01,  1.98393057e+00,  1.37133001e+00,\n",
       "       -4.14680586e-01,  4.37513785e-01,  1.04362716e+00,  2.08405838e+00,\n",
       "        2.39131756e+00,  2.52148503e+00,  2.59936473e+00,  1.12003179e+00,\n",
       "        9.72425661e-01,  1.36839146e+00,  1.22810150e+00,  1.04550465e+00,\n",
       "        1.11967286e+00,  1.33388346e+00,  3.86992836e-01,  1.60527278e+00,\n",
       "        1.75830798e+00, -4.87047184e-01,  8.87613846e-01,  5.40173880e-01,\n",
       "        3.11647333e+00,  9.49961366e-01,  9.80339214e-01,  7.83212817e-01,\n",
       "        3.22536965e+00,  1.01438512e+00,  4.71546484e-01,  1.49882068e+00,\n",
       "        7.54448643e-01,  3.28557045e-01,  5.34450109e-01,  1.56711630e+00,\n",
       "        1.18530642e+00,  2.11907728e+00,  1.79448429e+00,  1.43667424e+00,\n",
       "        9.60466212e-01, -1.52743296e-01,  1.30712404e+00,  1.69313535e+00,\n",
       "        1.20316815e-02,  2.38834732e+00,  2.21848841e+00, -3.10447936e-02,\n",
       "       -7.82506671e-01,  9.32897138e-01,  3.22730162e-01,  1.13488046e+00,\n",
       "        9.03474751e-01,  1.17459676e+00,  2.22999667e+00, -6.82412958e-01,\n",
       "        2.38246164e+00,  1.48815427e+00,  3.30148381e+00,  2.18387862e+00,\n",
       "       -7.70189404e-01,  7.53088080e-01,  7.55372888e-01, -1.30862071e-01,\n",
       "       -4.03580888e-01,  5.39233817e-01,  5.58719912e-01, -6.01471853e-02,\n",
       "        1.31015257e-01, -3.16348107e-01, -4.24425004e-01,  2.05497229e-02,\n",
       "        2.97385175e-01,  7.07312291e-01, -7.15976646e-01,  2.53681420e+00,\n",
       "        4.10828177e-02,  1.33047140e+00,  2.65353712e+00,  8.87707625e-01,\n",
       "        5.49576035e-01,  1.57601755e+00,  1.01586088e+00,  1.34476490e+00,\n",
       "        7.19996602e-01, -2.03761276e-01,  2.19101681e+00, -1.48138282e-01,\n",
       "       -1.86925707e+00,  1.07913488e+00,  2.89055439e-01,  1.44347738e+00,\n",
       "        7.47624752e-01,  2.61179401e+00,  1.39610151e+00,  8.04459980e-01,\n",
       "        1.05709839e+00,  1.38390449e+00,  5.84906227e-01,  5.84666774e-01,\n",
       "       -5.12462716e-02,  4.70410383e-01,  1.48852673e+00,  1.42595549e+00,\n",
       "       -9.23337026e-01,  2.97197631e+00,  1.14573973e+00,  1.79020146e+00,\n",
       "        2.72366961e-01,  2.49526214e-01, -7.10091811e-01,  4.28647112e-01,\n",
       "        1.08558716e-01, -1.09965115e+00,  9.65833006e-02,  2.32852843e+00,\n",
       "        5.25891592e-02,  9.24536226e-01,  1.44490928e+00, -2.38288845e-03,\n",
       "       -8.91826081e-01,  4.45774198e-01,  1.88658781e+00,  1.74407486e+00,\n",
       "        1.65776502e+00, -6.23099632e-01, -9.53251592e-01,  3.20872996e+00,\n",
       "        1.94449284e+00,  4.50848762e-01,  6.78335080e-01,  8.49081616e-01,\n",
       "        1.06602668e+00,  1.52526099e+00,  1.66182842e+00,  1.00920584e+00,\n",
       "        1.34455012e+00,  1.34336985e+00,  1.26010386e-01,  9.17241626e-01,\n",
       "        4.15217643e-01,  6.67963566e-01, -4.23088893e-01,  2.30106183e+00,\n",
       "        1.01186443e+00,  9.58234893e-01,  2.82800116e+00, -7.13798088e-01,\n",
       "        6.98904240e-01,  1.21624886e+00,  1.00141655e+00,  6.24815654e-02,\n",
       "        7.25573071e-02,  1.42878299e+00,  9.05026363e-01,  6.41944070e-01,\n",
       "        7.67136041e-01,  2.09063080e+00,  1.80412690e+00,  1.15221363e+00,\n",
       "        1.19733597e+00,  1.55100026e+00,  1.45483723e+00,  3.47977634e+00,\n",
       "        2.84695675e+00, -6.92719972e-01, -1.16372896e+00,  1.81373169e+00,\n",
       "        1.60000171e-01,  1.11093657e+00,  2.35162142e+00,  2.80431702e-01,\n",
       "        1.56412843e+00,  1.30389379e+00,  8.48393283e-01,  1.67484984e+00,\n",
       "        2.01648132e+00,  9.49241515e-02,  1.36547700e+00,  1.00779002e+00,\n",
       "        2.00091776e+00,  4.27155293e-01,  1.11758113e+00,  1.24368213e+00,\n",
       "        1.17975333e+00,  1.62311105e+00,  6.69132872e-01,  8.18456418e-01,\n",
       "        2.06861488e+00,  6.26271300e-01,  1.51566124e+00,  1.72615502e+00,\n",
       "        2.21214334e-01,  1.63372762e-01,  2.19298325e+00,  1.29893980e+00,\n",
       "       -1.25058621e-01, -1.40645995e+00,  2.70103601e+00,  1.86413492e+00,\n",
       "       -2.60197281e-01,  1.04454849e+00,  2.12253479e-01,  1.70342046e+00,\n",
       "        3.89714018e-01, -4.14224690e-01,  1.43703277e+00,  1.30230387e+00,\n",
       "        9.53482738e-01,  2.34003799e+00,  1.35592940e+00,  5.69221317e-01,\n",
       "        5.88869358e-01,  2.19520378e-01,  1.28537904e+00,  2.75224112e+00,\n",
       "        1.06395080e+00,  1.78440287e+00,  7.94288470e-01,  3.77768890e+00,\n",
       "        8.66693186e-01,  1.29400210e+00,  1.61266609e-01, -8.17621793e-01,\n",
       "        7.41765794e-01,  3.64268091e+00, -1.81380001e-01,  6.60482387e-01,\n",
       "        3.07697438e+00,  7.16916908e-01, -8.76088638e-01,  4.13456469e-01,\n",
       "        2.09183561e+00,  1.60199549e+00,  3.26580877e-01,  2.85448838e+00,\n",
       "        1.09412411e+00,  9.94683349e-01,  9.94540120e-02,  1.60308226e+00,\n",
       "       -6.67985307e-02,  2.50706725e+00,  2.24467309e-01,  5.12439148e-01,\n",
       "        1.68213927e+00, -7.80155456e-01,  2.63602773e+00,  5.77435042e-01,\n",
       "        8.22947131e-01,  4.96195776e-01, -2.38041021e+00,  2.30668576e+00,\n",
       "        1.10382606e+00,  1.23287355e+00,  1.54371648e+00,  2.04483991e+00,\n",
       "        2.17365555e+00, -1.33472087e+00, -8.51575016e-01,  1.68726679e+00,\n",
       "        1.75037666e+00,  1.29709757e+00,  1.76072591e+00,  9.25254453e-01,\n",
       "        3.14683857e+00,  4.24367362e-01,  1.23467700e+00, -6.50852101e-01,\n",
       "        4.05041561e-01,  4.42128651e-01,  2.24421198e+00,  3.82742793e-01,\n",
       "        6.75972374e-01,  4.26422229e-01, -1.12972714e+00,  2.09487425e+00,\n",
       "        2.54058549e+00, -8.99418111e-01,  4.87080046e-01,  1.84617015e+00,\n",
       "        9.79587045e-01,  9.99256204e-01,  7.03137288e-01,  4.82254743e-01,\n",
       "        2.24553623e+00,  1.09651476e+00,  2.14528675e+00, -1.38675539e-01,\n",
       "        1.09542018e+00,  4.30359862e-01,  2.69562700e+00,  1.92269477e-01,\n",
       "        1.25041023e+00, -1.63092857e-01,  1.29928952e+00,  8.16597915e-01,\n",
       "       -3.37532859e-02,  1.25683132e+00,  2.05671384e+00, -2.06612948e-02,\n",
       "       -5.11700373e-01, -5.43446881e-01,  2.67953788e+00,  2.25925917e-01,\n",
       "        5.08723561e-01,  1.08248017e+00,  1.17600640e+00, -4.87811825e-01,\n",
       "        8.74166058e-01,  1.06385875e+00,  8.75267003e-01,  1.64284335e+00,\n",
       "        8.84768561e-01,  1.07975507e+00,  1.77693984e+00, -4.83698540e-01,\n",
       "        9.19446226e-01,  2.41315787e+00,  7.48953665e-01,  6.38729166e-01,\n",
       "        2.50608797e-01,  1.48740186e+00,  6.63652964e-01,  1.24832584e+00,\n",
       "        1.87558633e+00,  1.89139519e+00,  3.32001252e+00,  1.12481350e+00,\n",
       "        6.04715550e-01,  3.55693045e+00,  8.15651509e-01,  2.87050098e+00,\n",
       "        1.09707146e+00,  8.76921548e-01,  6.36192952e-01,  2.21919147e+00,\n",
       "       -4.27792599e-01,  2.20708147e-01,  2.38004112e+00,  1.79012463e+00,\n",
       "        6.33465371e-01, -5.81130842e-01,  6.65885996e-01, -1.06109186e+00,\n",
       "       -1.69886493e+00,  4.27074012e-01,  1.71780010e+00,  1.14544126e+00,\n",
       "        2.47995480e+00,  2.29472939e+00,  1.46248854e+00,  1.58191921e+00,\n",
       "        2.46376274e+00,  7.96398286e-01,  6.47978614e-01,  1.91241763e+00,\n",
       "        1.07459767e-01,  2.07603062e+00,  2.17897342e+00,  2.19793600e+00,\n",
       "        1.58344655e+00,  8.18146813e-01,  9.65040553e-01,  1.79136450e+00,\n",
       "        6.19748745e-01,  7.09123000e-01,  9.02298610e-01,  2.52626397e-01,\n",
       "        1.47090803e+00,  5.41481200e-01,  3.57018793e-01,  1.34359743e+00,\n",
       "       -7.23332788e-01,  2.06248703e+00,  1.30368627e+00,  1.91057194e-01,\n",
       "        1.39552464e+00,  6.74269703e-01,  2.16880917e+00,  1.25604184e+00,\n",
       "       -1.19739885e-01,  3.52655080e-01,  5.77687581e-01, -1.19057235e+00,\n",
       "        5.51710609e-01,  2.18584940e+00,  2.45501830e-01,  9.83212730e-01,\n",
       "        1.19835143e+00,  1.80140435e+00, -4.31447311e-01,  8.99044973e-01,\n",
       "        6.23052964e-01,  1.61536463e+00,  2.03385276e+00,  3.15293064e-01,\n",
       "        2.08361765e-01,  1.71791964e+00, -4.34045359e-01,  2.27939050e-03,\n",
       "        1.18399138e+00, -7.81039897e-02, -5.56101496e-01,  9.67724021e-01,\n",
       "        2.49881798e+00,  3.01239033e-01,  5.12785480e-01,  8.89664957e-01,\n",
       "        2.15637786e+00,  5.56993430e-01,  1.31553617e+00,  1.32767962e+00,\n",
       "        2.63007427e-01,  1.64370514e+00,  1.92332523e+00,  1.69245013e+00,\n",
       "        1.44899649e-01,  1.24437932e+00,  9.89242146e-01,  2.18655444e+00,\n",
       "        9.68115877e-01,  1.68580294e+00,  2.45517819e+00,  2.43949490e-01,\n",
       "        1.43405405e+00,  4.54425289e-01,  1.78548644e+00, -1.89482475e-01,\n",
       "        2.62641976e+00,  1.47534522e+00,  2.86348560e-01,  1.95778538e+00,\n",
       "        6.59415261e-01,  9.69762939e-01,  1.44592854e+00,  3.46244295e-01,\n",
       "        9.29305021e-01, -1.18318578e+00,  1.76564012e+00,  8.01001255e-01,\n",
       "        8.88342787e-01,  1.59534519e+00,  1.44556805e+00,  5.90814428e-01,\n",
       "        2.48006057e+00,  2.29086392e+00, -2.40174127e-01,  8.50997317e-01,\n",
       "        1.19464011e+00,  5.19079337e-01, -8.15493580e-02,  1.22371766e+00,\n",
       "        1.04202003e+00,  1.13108551e+00,  1.54837953e+00,  1.71940129e+00,\n",
       "        2.35003138e+00, -1.23460962e+00, -1.29123179e-01,  3.35300092e+00,\n",
       "        1.74671725e+00,  1.44530617e+00,  2.02389147e+00, -7.45787239e-01,\n",
       "        1.72916425e-01, -2.30789882e-01,  1.84980222e+00,  1.66730842e-01,\n",
       "        1.69092626e-01, -2.81391534e-02,  5.49385482e-01,  3.34514431e-01,\n",
       "        6.82628709e-01,  8.02115160e-01,  1.84813273e-02,  1.79797024e+00,\n",
       "        8.02907769e-01,  1.91694397e+00,  9.48309296e-01,  1.92069072e+00])"
      ]
     },
     "execution_count": 44,
     "metadata": {},
     "output_type": "execute_result"
    }
   ],
   "source": [
    "np.random.normal(1,1,1000) # this simulate 1000 samples, with a mean of 1 and a standard deviation of 1"
   ]
  },
  {
   "cell_type": "markdown",
   "metadata": {},
   "source": [
    "We create 3 samples of 20, 100 and 1000 samples normally distributed variables"
   ]
  },
  {
   "cell_type": "code",
   "execution_count": 51,
   "metadata": {
    "collapsed": true
   },
   "outputs": [],
   "source": [
    "s20=np.random.normal(1,1,20)"
   ]
  },
  {
   "cell_type": "code",
   "execution_count": 52,
   "metadata": {
    "collapsed": true
   },
   "outputs": [],
   "source": [
    "s100=np.random.normal(1,1,100)"
   ]
  },
  {
   "cell_type": "code",
   "execution_count": 59,
   "metadata": {
    "collapsed": true
   },
   "outputs": [],
   "source": [
    "s1000=np.random.normal(1,1,1000)"
   ]
  },
  {
   "cell_type": "code",
   "execution_count": 48,
   "metadata": {},
   "outputs": [
    {
     "data": {
      "text/plain": [
       "Text(0.5,1,'1000 samples')"
      ]
     },
     "execution_count": 48,
     "metadata": {},
     "output_type": "execute_result"
    },
    {
     "data": {
      "image/png": "[encoded data removed]",
      "text/plain": [
       "<matplotlib.figure.Figure at 0x193cc30ee10>"
      ]
     },
     "metadata": {},
     "output_type": "display_data"
    }
   ],
   "source": [
    "plt.hist(s1000)\n",
    "plt.title(\"1000 samples\")"
   ]
  },
  {
   "cell_type": "code",
   "execution_count": 49,
   "metadata": {},
   "outputs": [
    {
     "data": {
      "text/plain": [
       "Text(0.5,1,'100 samples')"
      ]
     },
     "execution_count": 49,
     "metadata": {},
     "output_type": "execute_result"
    },
    {
     "data": {
      "image/png": "[encoded data removed]",
      "text/plain": [
       "<matplotlib.figure.Figure at 0x193cc3cfcc0>"
      ]
     },
     "metadata": {},
     "output_type": "display_data"
    }
   ],
   "source": [
    "plt.hist(s100)\n",
    "plt.title(\"100 samples\")"
   ]
  },
  {
   "cell_type": "code",
   "execution_count": 54,
   "metadata": {},
   "outputs": [
    {
     "data": {
      "text/plain": [
       "Text(0.5,1,'20 samples')"
      ]
     },
     "execution_count": 54,
     "metadata": {},
     "output_type": "execute_result"
    },
    {
     "data": {
      "image/png": "[encoded data removed]",
      "text/plain": [
       "<matplotlib.figure.Figure at 0x193cc4648d0>"
      ]
     },
     "metadata": {},
     "output_type": "display_data"
    }
   ],
   "source": [
    "plt.hist(s20)\n",
    "plt.title(\"20 samples\")"
   ]
  },
  {
   "cell_type": "markdown",
   "metadata": {},
   "source": [
    "What difference do you observe between the 20, 100 and 1000 samples?"
   ]
  },
  {
   "cell_type": "markdown",
   "metadata": {},
   "source": [
    "*Write your answer here*"
   ]
  },
  {
   "cell_type": "markdown",
   "metadata": {},
   "source": [
    "Now let's test whethere these sample are normally distributed with the shapiro test:"
   ]
  },
  {
   "cell_type": "code",
   "execution_count": 56,
   "metadata": {},
   "outputs": [
    {
     "data": {
      "text/plain": [
       "(0.9634638428688049, 0.6151151657104492)"
      ]
     },
     "execution_count": 56,
     "metadata": {},
     "output_type": "execute_result"
    }
   ],
   "source": [
    "st.shapiro(s20)"
   ]
  },
  {
   "cell_type": "code",
   "execution_count": 57,
   "metadata": {},
   "outputs": [
    {
     "data": {
      "text/plain": [
       "(0.980270266532898, 0.13952696323394775)"
      ]
     },
     "execution_count": 57,
     "metadata": {},
     "output_type": "execute_result"
    }
   ],
   "source": [
    "st.shapiro(s100)"
   ]
  },
  {
   "cell_type": "code",
   "execution_count": 60,
   "metadata": {},
   "outputs": [
    {
     "data": {
      "text/plain": [
       "(0.9986766576766968, 0.6727954149246216)"
      ]
     },
     "execution_count": 60,
     "metadata": {},
     "output_type": "execute_result"
    }
   ],
   "source": [
    "st.shapiro(s1000)"
   ]
  },
  {
   "cell_type": "markdown",
   "metadata": {},
   "source": [
    "What can you conclude from these tests?"
   ]
  },
  {
   "cell_type": "code",
   "execution_count": null,
   "metadata": {
    "collapsed": true
   },
   "outputs": [],
   "source": []
  },
  {
   "cell_type": "markdown",
   "metadata": {},
   "source": [
    "## Cricketer datasets\n",
    "\n",
    "Now let's apply all these tools to a new data. The cricketer dataset contains data abour British first class cricketers, born 1840-1960.\n",
    "\n",
    "The variables are:\n",
    "\n",
    "left: a factor with levels right left\n",
    "\n",
    "year: numeric, year of birth\n",
    "\n",
    "life:  numeric, lifetime or lifespan to 1992\n",
    "\n",
    "dead: numeric (0 = alive (censored), 1 = dead, in 1992)\n",
    "\n",
    "acd: numeric (0 = not accidental or not dead, 1 = accidental death)\n",
    "\n",
    "kia: numeric (0 = not killed in action, 1 = killed in action)\n",
    "\n",
    "inbed:  numeric (0 = did not die in bed, 1 = died in bed)\n",
    "\n",
    "cause: a factor with levels alive acd (accidental death) inbed (died in bed)\n",
    "\n",
    "1) Load the data\n",
    "\n",
    "2) Describe the data (number of cricketer, descriptive statistics of each variable)\n",
    "\n",
    "3) Plot the data\n",
    "\n",
    "4) Is there a difference of lifespan between right and left handed cricketer?"
   ]
  },
  {
   "cell_type": "code",
   "execution_count": 61,
   "metadata": {
    "collapsed": true
   },
   "outputs": [],
   "source": [
    "# type your code here"
   ]
  },
  {
   "cell_type": "markdown",
   "metadata": {},
   "source": [
    "*Write your conclusion here*"
   ]
  }
 ],
 "metadata": {
  "kernelspec": {
   "display_name": "Python 3",
   "language": "python",
   "name": "python3"
  },
  "language_info": {
   "codemirror_mode": {
    "name": "ipython",
    "version": 3
   },
   "file_extension": ".py",
   "mimetype": "text/x-python",
   "name": "python",
   "nbconvert_exporter": "python",
   "pygments_lexer": "ipython3",
   "version": "3.6.3"
  }
 },
 "nbformat": 4,
 "nbformat_minor": 2
}
