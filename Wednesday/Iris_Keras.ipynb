{
  "cells": [
    {
      "cell_type": "markdown",
      "source": "# Machine Learning with Keras: The Python Deep Learning library\n\nKeras is a high level machine learning API, written in Python and runs on top of Tensorflow or Theano.\nPackages like Keras and Tensorflow make it much easier and more efficient to build machine learning models.\nThis Notebook is a brief introduction to Keras, you can find the documentation [here.](https://keras.io/)\n\nFirst you need to install Tansorflow on your local machine. Open a command prompt and run the following:\n\npip install --user tensorflow\u003d\u003d1.12\n\npip install –-user keras\n\nThere is also a video of how to do this on Blackboard in the learning materials \u003e python resources folder.\n\nOnce your environment is set up first load and process the data as before...",
      "metadata": {
        "pycharm": {
          "metadata": false
        }
      }
    },
    {
      "cell_type": "code",
      "execution_count": null,
      "outputs": [],
      "source": "import pandas as pd\nimport matplotlib.pyplot as plt\nfrom sklearn.model_selection import train_test_split\nfrom keras.utils import to_categorical\n\n# Read data from csv\niris \u003d pd.read_csv(\"data/Iris.csv\")\nprint(iris.head())\n\n# Replace the species with 1,2 or 3 as appropriate\niris[\u0027Species\u0027].replace([\u0027Iris-setosa\u0027, \u0027Iris-virginica\u0027, \u0027Iris-versicolor\u0027], [0, 1, 2], inplace\u003dTrue)\n\n# Get labels, flatten and encode to one-hot\ncolumns \u003d [\u0027Species\u0027]\nlabels \u003d pd.DataFrame(iris, columns\u003dcolumns).to_numpy()\nlabels \u003d labels.flatten()\nlabels \u003d to_categorical(labels)\n\n# Get Features\ncolumns \u003d [\u0027SepalLength\u0027, \u0027SepalWidth\u0027, \u0027PetalLength\u0027, \u0027PetalWidth\u0027]\nfeatures \u003d pd.DataFrame(iris, columns\u003dcolumns).to_numpy()\n\n# Split data to training and test data, 2/3 for training and 1/3 for testing\ntrain_x, test_x, train_y, test_y \u003d train_test_split(features, labels, test_size\u003d0.33, random_state\u003d2)",
      "metadata": {
        "pycharm": {
          "metadata": false,
          "name": "#%%\n"
        }
      }
    },
    {
      "cell_type": "markdown",
      "source": "Next we build the Keras model and we can train it with just one line of code...\n\n**Note:** Keras doesn\u0027t seem to play nicely with the sigmoid activation function so we will use ReLu.",
      "metadata": {
        "pycharm": {
          "metadata": false
        }
      }
    },
    {
      "cell_type": "code",
      "execution_count": null,
      "outputs": [],
      "source": "from keras.models import Sequential \nfrom keras.layers import Dense, Dropout\nfrom keras import optimizers\n\n# Learning rate\nlearning_rate \u003d 0.01\n\n# Number of training epochs\nnum_epochs \u003d 100\n\n# Network architecture parameters\nnum_features \u003d len(train_x[0])\nnum_classes \u003d len(train_y[0])\nnum_hidden_nodes \u003d 10\n\n# With sequential we can just add layers to the network\nmodel \u003d Sequential()\nmodel.add(Dense(num_hidden_nodes, input_dim\u003dnum_features, activation\u003d\u0027relu\u0027))\nmodel.add(Dense(num_hidden_nodes, activation\u003d\u0027relu\u0027))\nmodel.add(Dense(num_hidden_nodes, activation\u003d\u0027relu\u0027))\nmodel.add(Dense(num_classes, activation\u003d\u0027softmax\u0027))\nsgd \u003d optimizers.SGD(lr\u003dlearning_rate)\nmodel.compile(loss\u003d\u0027categorical_crossentropy\u0027, optimizer\u003dsgd, metrics\u003d[\u0027accuracy\u0027])\nmodel.summary()\n\n# The fit function returns a dictionary of the training and evaluation losses and accuracies\nmetrics \u003d model.fit(train_x, train_y, validation_data\u003d(test_x, test_y), epochs\u003dnum_epochs, verbose\u003d2)",
      "metadata": {
        "pycharm": {
          "metadata": false,
          "name": "#%%\n"
        }
      }
    },
    {
      "cell_type": "markdown",
      "source": "Evaluate the model\n\nIf we had a 3rd evaluation set of unseen data we could evaluate it here.\nInstead we will just use the same test set from before.",
      "metadata": {
        "pycharm": {
          "metadata": false
        }
      }
    },
    {
      "cell_type": "code",
      "execution_count": null,
      "outputs": [],
      "source": "# Plot the error chart\nplt.plot(metrics.history[\u0027loss\u0027])\nplt.plot(metrics.history[\u0027val_loss\u0027])\nplt.xlabel(\u0027Epochs\u0027)\nplt.ylabel(\u0027Error\u0027)\nplt.show()\n\n# Plot the accuracy chart\nplt.plot(metrics.history[\u0027acc\u0027])\nplt.plot(metrics.history[\u0027val_acc\u0027])\nplt.xlabel(\u0027Epochs\u0027)\nplt.ylabel(\u0027Accuracy\u0027)\nplt.show()\n\neval_metrics \u003d model.evaluate(test_x, test_y)\nprint(\"Evaluation: Loss\u003d\" + str(round(eval_metrics[0], 3)) + \" Accuracy\u003d\" + str(round(eval_metrics[1], 3)))\n\n",
      "metadata": {
        "pycharm": {
          "metadata": false,
          "name": "#%%\n"
        }
      }
    }
  ],
  "metadata": {
    "language_info": {
      "codemirror_mode": {
        "name": "ipython",
        "version": 2
      },
      "file_extension": ".py",
      "mimetype": "text/x-python",
      "name": "python",
      "nbconvert_exporter": "python",
      "pygments_lexer": "ipython2",
      "version": "2.7.6"
    },
    "kernelspec": {
      "name": "python3",
      "language": "python",
      "display_name": "Python 3"
    },
    "stem_cell": {
      "cell_type": "raw",
      "source": "",
      "metadata": {
        "pycharm": {
          "metadata": false
        }
      }
    }
  },
  "nbformat": 4,
  "nbformat_minor": 0
}