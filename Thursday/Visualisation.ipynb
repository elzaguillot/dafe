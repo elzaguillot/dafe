{
 "cells": [
  {
   "cell_type": "markdown",
   "metadata": {},
   "source": [
    "# Visualisation\n",
    "\n",
    "A main challenge with big data is to report the results. Visualisation is a very important part of it. We have seen some simple plotting examples in python. In this tutorial we will focus on how to produce better plots.\n",
    "\n",
    "Libraries used:\n",
    "- pandas\n",
    "- matplotlib\n",
    "- seaborn\n",
    "\n",
    "We will be using the following dataset:\n",
    "- iris\n",
    "- boston\n",
    "\n",
    "A good resource for visualisation ideas in python can be found here: https://python-graph-gallery.com/\n",
    "\n",
    "## Plotting libraries\n",
    "\n",
    "We have already seen `matplotlib` which is the most basic library. There exists many python libraries for visualisation. Here we will focus on `seaborn` which is a commonly used library.\n",
    "\n",
    "A good cheat sheet for this libary can be found here: https://s3.amazonaws.com/assets.datacamp.com/blog_assets/Python_Seaborn_Cheat_Sheet.pdf"
   ]
  },
  {
   "cell_type": "code",
   "execution_count": null,
   "metadata": {
    "collapsed": true
   },
   "outputs": [],
   "source": [
    "import pandas as pd\n",
    "import matplotlib.pyplot as plt\n",
    "import seaborn as sns\n",
    "from sklearn import datasets\n",
    "%matplotlib  inline\n",
    "from sklearn import preprocessing"
   ]
  },
  {
   "cell_type": "code",
   "execution_count": null,
   "metadata": {},
   "outputs": [],
   "source": [
    "data=datasets.load_boston()\n",
    "boston=pd.DataFrame(data['data'],columns=data.feature_names)\n",
    "boston[\"price\"]=data.target   # save price as another column in the dataset\n",
    "boston.head()"
   ]
  },
  {
   "cell_type": "code",
   "execution_count": null,
   "metadata": {},
   "outputs": [],
   "source": [
    "data=datasets.load_iris()\n",
    "iris=pd.DataFrame(data['data'],columns=['sepal.length','sepal.width','petal.length','petal.width'])\n",
    "iris[\"species\"]=data.target_names[data.target]   # save species as another column in the dataset\n",
    "iris.head()"
   ]
  },
  {
   "cell_type": "markdown",
   "metadata": {},
   "source": [
    " ## Scatterplot\n",
    " \n",
    " Scatterplot are plots representing two variables, with each dot representing a sample\n",
    " \n",
    " With matplotlib:"
   ]
  },
  {
   "cell_type": "code",
   "execution_count": null,
   "metadata": {},
   "outputs": [],
   "source": [
    "plt.scatter('sepal.length','sepal.width',data=iris)"
   ]
  },
  {
   "cell_type": "markdown",
   "metadata": {},
   "source": [
    "\n",
    "\n",
    "With `seaborn`, the `lmplot` function plots a line through it"
   ]
  },
  {
   "cell_type": "code",
   "execution_count": null,
   "metadata": {},
   "outputs": [],
   "source": [
    "sns.lmplot('sepal.length','sepal.width',data=iris)"
   ]
  },
  {
   "cell_type": "markdown",
   "metadata": {},
   "source": [
    "Let's make more information appear on these plots. For each plant, we know the species (stored in data.target).\n",
    "\n",
    "In matplotlib, you can use the `c` argument to indicate a value that will set the  color."
   ]
  },
  {
   "cell_type": "code",
   "execution_count": null,
   "metadata": {},
   "outputs": [],
   "source": [
    "plt.scatter('sepal.length','sepal.width',data=iris,c=data.target)\n",
    "plt.xlabel(\"Sepal length\")\n",
    "plt.ylabel(\"Sepal width\")\n",
    "plt.title(\"Iris sepal\")\n",
    "#plt.legend(labels=data.target_names,c=[0,1,2])"
   ]
  },
  {
   "cell_type": "code",
   "execution_count": null,
   "metadata": {},
   "outputs": [],
   "source": [
    "g=sns.lmplot('sepal.length','sepal.width',data=iris,hue=\"species\")\n",
    "g.set_axis_labels(\"Sepal length (cm)\",\"Sepal width (cm)\")\n",
    "plt.title(\"Iris sepal\")\n",
    "plt.show(g)"
   ]
  },
  {
   "cell_type": "markdown",
   "metadata": {},
   "source": [
    "Describe the plot above"
   ]
  },
  {
   "cell_type": "markdown",
   "metadata": {},
   "source": [
    "*Write your answer here*"
   ]
  },
  {
   "cell_type": "markdown",
   "metadata": {},
   "source": [
    "Reproduce similar plots with petal lenght and petal width"
   ]
  },
  {
   "cell_type": "code",
   "execution_count": null,
   "metadata": {
    "collapsed": true
   },
   "outputs": [],
   "source": []
  },
  {
   "cell_type": "markdown",
   "metadata": {},
   "source": [
    "## Saving a plot\n",
    "\n",
    "To save any python plot, simply use the `savefig` function:"
   ]
  },
  {
   "cell_type": "code",
   "execution_count": null,
   "metadata": {},
   "outputs": [],
   "source": [
    "g=sns.lmplot('sepal.length','sepal.width',data=iris,hue=\"species\")\n",
    "g.set_axis_labels(\"Sepal length (cm)\",\"Sepal width (cm)\")\n",
    "plt.title(\"Iris sepal\")\n",
    "plt.show(g)\n",
    "plt.savefig(\"sepal.png\")"
   ]
  },
  {
   "cell_type": "markdown",
   "metadata": {},
   "source": [
    "## Distribution plots\n",
    "\n",
    "### Boxplot\n",
    "\n",
    "Boxplots represents the median (middle line), the first and third quartile of the data (25 and 75 percentile), as well as the extremes and outliers. Outliers are represented by dots.\n",
    "\n",
    "\n",
    "The distribution of sepal length:"
   ]
  },
  {
   "cell_type": "code",
   "execution_count": null,
   "metadata": {},
   "outputs": [],
   "source": [
    "sns.boxplot( y=iris[\"sepal.length\"] )"
   ]
  },
  {
   "cell_type": "markdown",
   "metadata": {},
   "source": [
    "The distribution of sepal length by species"
   ]
  },
  {
   "cell_type": "code",
   "execution_count": null,
   "metadata": {
    "scrolled": true
   },
   "outputs": [],
   "source": [
    "sns.boxplot( x=iris[\"species\"], y=iris[\"sepal.length\"] )"
   ]
  },
  {
   "cell_type": "markdown",
   "metadata": {},
   "source": [
    "Reproduce this boxplot for petal length:"
   ]
  },
  {
   "cell_type": "code",
   "execution_count": null,
   "metadata": {
    "collapsed": true
   },
   "outputs": [],
   "source": []
  },
  {
   "cell_type": "markdown",
   "metadata": {},
   "source": [
    "The distribution of all four variables"
   ]
  },
  {
   "cell_type": "code",
   "execution_count": null,
   "metadata": {},
   "outputs": [],
   "source": [
    "sns.boxplot(data=iris.iloc[:,0:4])"
   ]
  },
  {
   "cell_type": "markdown",
   "metadata": {},
   "source": [
    "Reproduce this boxplot for only petal length and width:"
   ]
  },
  {
   "cell_type": "code",
   "execution_count": null,
   "metadata": {
    "collapsed": true
   },
   "outputs": [],
   "source": []
  },
  {
   "cell_type": "markdown",
   "metadata": {},
   "source": [
    "**Boxplots are great for comparing distributions.**"
   ]
  },
  {
   "cell_type": "markdown",
   "metadata": {},
   "source": [
    "### Histogram\n",
    "\n",
    "Histogram represent the distribution of the data 2 dimension, which give a bit more details about the shape of the distribution (normality, skewness)"
   ]
  },
  {
   "cell_type": "code",
   "execution_count": null,
   "metadata": {},
   "outputs": [],
   "source": [
    "iris[\"sepal.length\"].hist() # this function is from the pandas library"
   ]
  },
  {
   "cell_type": "code",
   "execution_count": null,
   "metadata": {
    "scrolled": true
   },
   "outputs": [],
   "source": [
    "iris[\"sepal.length\"].hist(bins=20) # more bins = more \"bars\""
   ]
  },
  {
   "cell_type": "markdown",
   "metadata": {},
   "source": [
    "Seaborn offers the possibility to draw the distribution curve on top of the histogram"
   ]
  },
  {
   "cell_type": "code",
   "execution_count": null,
   "metadata": {},
   "outputs": [],
   "source": [
    "sns.distplot(iris[\"sepal.length\"])"
   ]
  },
  {
   "cell_type": "markdown",
   "metadata": {},
   "source": [
    "You can also plot two distributions on the same graph:"
   ]
  },
  {
   "cell_type": "code",
   "execution_count": null,
   "metadata": {},
   "outputs": [],
   "source": [
    "sns.distplot( iris[\"sepal.width\"] , color=\"red\", label=\"Sepal Width\")\n",
    "sns.distplot( iris[\"sepal.length\"] , color=\"skyblue\", label=\"Sepal Length\")\n",
    "plt.legend()"
   ]
  },
  {
   "cell_type": "markdown",
   "metadata": {},
   "source": [
    "Reproduce this histogram for petal length and width:"
   ]
  },
  {
   "cell_type": "code",
   "execution_count": null,
   "metadata": {
    "collapsed": true
   },
   "outputs": [],
   "source": []
  },
  {
   "cell_type": "markdown",
   "metadata": {},
   "source": [
    "**Histogram are used to check the shape of distributions**"
   ]
  },
  {
   "cell_type": "markdown",
   "metadata": {},
   "source": [
    "### 2D histogram\n",
    "\n",
    "You can plot histogram of the occurence of two variables together with 2 D histograms"
   ]
  },
  {
   "cell_type": "code",
   "execution_count": null,
   "metadata": {},
   "outputs": [],
   "source": [
    "plt.hist2d(iris[\"sepal.length\"],iris[\"petal.length\"] , bins=(10, 10),cmap=plt.cm.Greys)\n",
    "plt.xlabel(\"sepal length\")\n",
    "plt.ylabel(\"petal length\")\n",
    "plt.colorbar()\n"
   ]
  },
  {
   "cell_type": "markdown",
   "metadata": {},
   "source": [
    "What do you observe?"
   ]
  },
  {
   "cell_type": "markdown",
   "metadata": {},
   "source": [
    "*write your answer*"
   ]
  },
  {
   "cell_type": "markdown",
   "metadata": {},
   "source": [
    "Do a 2D histogram of petal width and sepal width"
   ]
  },
  {
   "cell_type": "code",
   "execution_count": null,
   "metadata": {
    "collapsed": true
   },
   "outputs": [],
   "source": []
  },
  {
   "cell_type": "markdown",
   "metadata": {},
   "source": [
    "### Violin plot\n",
    "\n",
    "A mix of boxplor and histogram, violin plot shows the shape of distribution in the manner of a boxplot:b"
   ]
  },
  {
   "cell_type": "code",
   "execution_count": null,
   "metadata": {},
   "outputs": [],
   "source": [
    "sns.violinplot( y=iris[\"sepal.length\"] )"
   ]
  },
  {
   "cell_type": "code",
   "execution_count": null,
   "metadata": {},
   "outputs": [],
   "source": [
    "sns.violinplot( y=iris[\"sepal.length\"] ,x=iris.species)"
   ]
  },
  {
   "cell_type": "markdown",
   "metadata": {},
   "source": [
    "Reproduce these two graphs for petal length:"
   ]
  },
  {
   "cell_type": "code",
   "execution_count": null,
   "metadata": {
    "collapsed": true
   },
   "outputs": [],
   "source": []
  },
  {
   "cell_type": "code",
   "execution_count": null,
   "metadata": {
    "collapsed": true
   },
   "outputs": [],
   "source": []
  },
  {
   "cell_type": "markdown",
   "metadata": {},
   "source": [
    "## Correlation\n",
    "\n",
    "Heatmap are a coloured representation of tables. The color will match the value in each cell of the tables. "
   ]
  },
  {
   "cell_type": "code",
   "execution_count": null,
   "metadata": {},
   "outputs": [],
   "source": [
    "sns.heatmap(boston)"
   ]
  },
  {
   "cell_type": "markdown",
   "metadata": {},
   "source": [
    "The heatmap above somewhat represent the entire boston dataset, but in this case it is not very useful, because onyly a couple of variables are visible, due to the diffence in scale."
   ]
  },
  {
   "cell_type": "code",
   "execution_count": null,
   "metadata": {
    "collapsed": true
   },
   "outputs": [],
   "source": [
    "boston_scaled=preprocessing.scale(boston)"
   ]
  },
  {
   "cell_type": "code",
   "execution_count": null,
   "metadata": {},
   "outputs": [],
   "source": [
    "sns.heatmap(boston_scaled)"
   ]
  },
  {
   "cell_type": "markdown",
   "metadata": {},
   "source": [
    "Now we see all the variables"
   ]
  },
  {
   "cell_type": "markdown",
   "metadata": {},
   "source": [
    "Heatmap are especially useful for representing correlation tables. Indeed the correlation between all teh boston variables is "
   ]
  },
  {
   "cell_type": "code",
   "execution_count": null,
   "metadata": {
    "scrolled": true
   },
   "outputs": [],
   "source": [
    "boston.corr()"
   ]
  },
  {
   "cell_type": "markdown",
   "metadata": {},
   "source": [
    "This is a big table, and it is hard to really see the information, instead let's  do a heatmap of it:"
   ]
  },
  {
   "cell_type": "code",
   "execution_count": null,
   "metadata": {},
   "outputs": [],
   "source": [
    "sns.heatmap(boston.corr())"
   ]
  },
  {
   "cell_type": "markdown",
   "metadata": {},
   "source": [
    "Now we see more clearly the variables that are negatively correlated (in dark) and positively correlated (in light)"
   ]
  },
  {
   "cell_type": "markdown",
   "metadata": {},
   "source": [
    "Produce a heat of the correlation for the iris dataset"
   ]
  },
  {
   "cell_type": "code",
   "execution_count": null,
   "metadata": {
    "collapsed": true
   },
   "outputs": [],
   "source": []
  },
  {
   "cell_type": "code",
   "execution_count": null,
   "metadata": {
    "collapsed": true
   },
   "outputs": [],
   "source": []
  },
  {
   "cell_type": "markdown",
   "metadata": {},
   "source": [
    "## A bit more control on your plots\n",
    "\n",
    "### The legend\n",
    "\n",
    "Each instance that appears in the legend is defined by a new plot `plt.someplot` and a `label=` defined in that call\n",
    "\n",
    "Example:"
   ]
  },
  {
   "cell_type": "code",
   "execution_count": null,
   "metadata": {},
   "outputs": [],
   "source": [
    "plt.scatter(iris['sepal.length'][iris.species==\"setosa\"],iris['sepal.width'][iris.species==\"setosa\"],label=\"setosa\")\n",
    "plt.scatter(iris['sepal.length'][iris.species==\"virginica\"],iris['sepal.width'][iris.species==\"virginica\"],label=\"virginica\")\n",
    "plt.scatter(iris['sepal.length'][iris.species==\"versicolor\"],iris['sepal.width'][iris.species==\"versicolor\"],label=\"versicolor\")\n",
    "plt.legend()"
   ]
  },
  {
   "cell_type": "markdown",
   "metadata": {},
   "source": [
    "To add title and labels on axes use `plt.title` `plt.xlabel` and `plt.ylabel`\n",
    "** You should always label your axes**"
   ]
  },
  {
   "cell_type": "code",
   "execution_count": null,
   "metadata": {},
   "outputs": [],
   "source": [
    "plt.scatter(iris['sepal.length'][iris.species==\"setosa\"],iris['sepal.width'][iris.species==\"setosa\"],label=\"setosa\")\n",
    "plt.scatter(iris['sepal.length'][iris.species==\"virginica\"],iris['sepal.width'][iris.species==\"virginica\"],label=\"virginica\")\n",
    "plt.scatter(iris['sepal.length'][iris.species==\"versicolor\"],iris['sepal.width'][iris.species==\"versicolor\"],label=\"versicolor\")\n",
    "plt.legend()\n",
    "plt.xlabel(\"sepal length\")\n",
    "plt.xlabel(\"sepal width\")\n",
    "plt.title(\"Iris dataset\")"
   ]
  },
  {
   "cell_type": "markdown",
   "metadata": {},
   "source": [
    "### Colours\n",
    "\n",
    "To change the colours of your graph, you need to change the *palette*, for this you can use the argument `cmap`. Unfortunately for scatterplot, that forces to change the way the command is written"
   ]
  },
  {
   "cell_type": "code",
   "execution_count": null,
   "metadata": {},
   "outputs": [],
   "source": [
    "iris['species']=pd.Categorical(iris['species'])\n",
    "iris['species'].cat.codes\n",
    "plt.scatter(iris['sepal.length'],iris['sepal.width'],c=iris['species'].cat.codes,cmap=\"summer\")\n"
   ]
  },
  {
   "cell_type": "code",
   "execution_count": null,
   "metadata": {},
   "outputs": [],
   "source": [
    "iris['species']=pd.Categorical(iris['species'])\n",
    "iris['species'].cat.codes\n",
    "plt.scatter(iris['sepal.length'],iris['sepal.width'],c=iris['species'].cat.codes,cmap=\"ocean\")\n"
   ]
  },
  {
   "cell_type": "markdown",
   "metadata": {},
   "source": [
    "See the effect on the heatmap:"
   ]
  },
  {
   "cell_type": "code",
   "execution_count": null,
   "metadata": {},
   "outputs": [],
   "source": [
    "sns.heatmap(boston.corr(),cmap=\"summer\")"
   ]
  },
  {
   "cell_type": "code",
   "execution_count": null,
   "metadata": {},
   "outputs": [],
   "source": [
    "sns.heatmap(boston.corr(),cmap=\"Blues\")"
   ]
  },
  {
   "cell_type": "markdown",
   "metadata": {},
   "source": [
    "### Subplots\n",
    "\n",
    "To plot several graph in the same figure, you can use `plt.subplot`. \n",
    "Here is an example with 4 plots:"
   ]
  },
  {
   "cell_type": "code",
   "execution_count": null,
   "metadata": {},
   "outputs": [],
   "source": [
    "f, ((ax1, ax2), (ax3, ax4)) = plt.subplots(2, 2)\n",
    "f.suptitle('the great plot')\n",
    "ax1.hist(iris['petal.length' ])\n",
    "ax2.boxplot(iris['petal.length'])\n",
    "ax3.scatter(iris['petal.length'],iris['petal.width'])\n",
    "ax4.scatter(iris['sepal.length'],iris['sepal.width'])"
   ]
  },
  {
   "cell_type": "markdown",
   "metadata": {},
   "source": [
    "Each plot can be manipulated by its own handle, e.g. `ax1`:"
   ]
  },
  {
   "cell_type": "code",
   "execution_count": null,
   "metadata": {},
   "outputs": [],
   "source": [
    "f, ((ax1, ax2), (ax3, ax4)) = plt.subplots(2, 2)\n",
    "f.suptitle('the great plot')\n",
    "\n",
    "ax1.hist(iris['petal.length' ])\n",
    "ax1.set_title(\"petal length\")\n",
    "\n",
    "ax2.boxplot(iris['petal.length'])\n",
    "ax2.set(ylabel=\"petal length\")\n",
    "\n",
    "ax3.scatter(iris['petal.length'],iris['petal.width'])\n",
    "ax3.set(xlabel=\"petal length\",ylabel=\"petal width\")\n",
    "\n",
    "ax4.scatter(iris['sepal.length'],iris['sepal.width'])\n",
    "ax4.set(xlabel=\"sepal length\",ylabel=\"petal width\")\n"
   ]
  },
  {
   "cell_type": "markdown",
   "metadata": {},
   "source": [
    "If you want to insert a seaborn plot as one of the subplot:"
   ]
  },
  {
   "cell_type": "code",
   "execution_count": null,
   "metadata": {},
   "outputs": [],
   "source": [
    "f, ((ax1, ax2), (ax3, ax4)) = plt.subplots(2, 2)\n",
    "f.suptitle('the great plot')\n",
    "ax1.hist(iris['petal.length' ])\n",
    "ax1.set_title(\"petal length\")\n",
    "\n",
    "sns.boxplot(x=iris.species,y=iris['petal.length'],ax=ax2) ## the seaborn plot\n",
    "\n",
    "ax3.scatter(iris['petal.length'],iris['petal.width'])\n",
    "ax3.set(xlabel=\"petal length\",ylabel=\"petal width\")\n",
    "\n",
    "ax4.scatter(iris['sepal.length'],iris['sepal.width'])\n",
    "ax4.set(xlabel=\"sepal length\",ylabel=\"petal width\")\n"
   ]
  },
  {
   "cell_type": "markdown",
   "metadata": {},
   "source": [
    "Create a 2 by 2 subplot with all the boxplot of the four variables in iris, colored by species"
   ]
  },
  {
   "cell_type": "code",
   "execution_count": null,
   "metadata": {
    "collapsed": true
   },
   "outputs": [],
   "source": []
  },
  {
   "cell_type": "markdown",
   "metadata": {},
   "source": [
    "To tweak even more your matplotlib, see the following documentation: https://matplotlib.org/users/dflt_style_changes.html"
   ]
  }
 ],
 "metadata": {
  "kernelspec": {
   "display_name": "Python 3",
   "language": "python",
   "name": "python3"
  },
  "language_info": {
   "codemirror_mode": {
    "name": "ipython",
    "version": 3
   },
   "file_extension": ".py",
   "mimetype": "text/x-python",
   "name": "python",
   "nbconvert_exporter": "python",
   "pygments_lexer": "ipython3",
   "version": "3.6.3"
  }
 },
 "nbformat": 4,
 "nbformat_minor": 2
}
